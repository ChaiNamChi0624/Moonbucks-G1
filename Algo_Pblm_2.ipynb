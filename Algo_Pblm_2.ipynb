{
 "cells": [
  {
   "cell_type": "code",
   "execution_count": 1,
   "id": "7c369d78",
   "metadata": {},
   "outputs": [],
   "source": [
    "from distribution_center import DistributionCenter\n",
    "from util import get_country_dict, load_dataset"
   ]
  },
  {
   "cell_type": "code",
   "execution_count": 2,
   "id": "2407a53b",
   "metadata": {
    "scrolled": false
   },
   "outputs": [
    {
     "data": {
      "text/plain": [
       "{'CN': {'name': 'China', 'n_stores': 454},\n",
       " 'AE': {'name': 'United Arab Emirates', 'n_stores': 68},\n",
       " 'AR': {'name': 'Argentina', 'n_stores': 32},\n",
       " 'AT': {'name': 'Austria', 'n_stores': 9},\n",
       " 'BE': {'name': 'Belgium', 'n_stores': 3},\n",
       " 'BG': {'name': 'Bulgaria', 'n_stores': 4},\n",
       " 'BH': {'name': 'Bahrain', 'n_stores': 10},\n",
       " 'BS': {'name': 'Bahamas', 'n_stores': 6},\n",
       " 'CA': {'name': 'Canada', 'n_stores': 898},\n",
       " 'CH': {'name': 'Switzerland', 'n_stores': 40},\n",
       " 'CL': {'name': 'Chile', 'n_stores': 29},\n",
       " 'CY': {'name': 'Cyprus', 'n_stores': 9},\n",
       " 'CZ': {'name': 'Czechia', 'n_stores': 12},\n",
       " 'DE': {'name': 'Germany', 'n_stores': 1},\n",
       " 'DK': {'name': 'Denmark', 'n_stores': 3},\n",
       " 'EG': {'name': 'Egypt', 'n_stores': 10},\n",
       " 'ES': {'name': 'Spain', 'n_stores': 60},\n",
       " 'GB': {'name': 'United Kingdom', 'n_stores': 364},\n",
       " 'GR': {'name': 'Greece', 'n_stores': 25},\n",
       " 'ID': {'name': 'Indonesia', 'n_stores': 81},\n",
       " 'IE': {'name': 'Ireland', 'n_stores': 3},\n",
       " 'JO': {'name': 'Jordan', 'n_stores': 7},\n",
       " 'JP': {'name': 'Japan', 'n_stores': 790},\n",
       " 'KR': {'name': 'Korea, Republic of', 'n_stores': 256},\n",
       " 'KW': {'name': 'Kuwait', 'n_stores': 54},\n",
       " 'LB': {'name': 'Lebanon', 'n_stores': 10},\n",
       " 'MX': {'name': 'Mexico', 'n_stores': 288},\n",
       " 'MY': {'name': 'Malaysia', 'n_stores': 89},\n",
       " 'NL': {'name': 'Netherlands', 'n_stores': 8},\n",
       " 'NZ': {'name': 'New Zealand', 'n_stores': 22},\n",
       " 'OM': {'name': 'Oman', 'n_stores': 6},\n",
       " 'PE': {'name': 'Peru', 'n_stores': 35},\n",
       " 'PH': {'name': 'Philippines', 'n_stores': 152},\n",
       " 'PL': {'name': 'Poland', 'n_stores': 10},\n",
       " 'PT': {'name': 'Portugal', 'n_stores': 7},\n",
       " 'QA': {'name': 'Qatar', 'n_stores': 7},\n",
       " 'RO': {'name': 'Romania', 'n_stores': 7},\n",
       " 'RU': {'name': 'Russian Federation', 'n_stores': 37},\n",
       " 'SA': {'name': 'Saudi Arabia', 'n_stores': 40},\n",
       " 'SG': {'name': 'Singapore', 'n_stores': 49},\n",
       " 'TH': {'name': 'Thailand', 'n_stores': 121},\n",
       " 'TR': {'name': 'Turkey', 'n_stores': 108},\n",
       " 'TW': {'name': 'Taiwan, Province of China', 'n_stores': 196},\n",
       " 'US': {'name': 'United States', 'n_stores': 9145},\n",
       " 'AW': {'name': 'Aruba', 'n_stores': 2},\n",
       " 'HU': {'name': 'Hungary', 'n_stores': 3},\n",
       " 'FR': {'name': 'France', 'n_stores': 39},\n",
       " 'SV': {'name': 'El Salvador', 'n_stores': 2},\n",
       " 'BR': {'name': 'Brazil', 'n_stores': 4},\n",
       " 'GT': {'name': 'Guatemala', 'n_stores': 1},\n",
       " 'SE': {'name': 'Sweden', 'n_stores': 2}}"
      ]
     },
     "execution_count": 2,
     "metadata": {},
     "output_type": "execute_result"
    }
   ],
   "source": [
    "get_country_dict(load_dataset())"
   ]
  },
  {
   "cell_type": "code",
   "execution_count": 3,
   "id": "f0f3efe9",
   "metadata": {},
   "outputs": [],
   "source": [
    "my_distrib_center = DistributionCenter(country_code=\"MY\")"
   ]
  },
  {
   "cell_type": "code",
   "execution_count": null,
   "id": "c2f687d3",
   "metadata": {
    "scrolled": false
   },
   "outputs": [],
   "source": [
    "my_distrib_center.solve(method=\"nearest-neighbour\") # held-karp\n",
    "display(my_distrib_center.plot())\n",
    "print(my_distrib_center.info())"
   ]
  },
  {
   "cell_type": "code",
   "execution_count": null,
   "id": "c3b0189c",
   "metadata": {},
   "outputs": [],
   "source": [
    "my_distrib_center.solve(method=\"held-karp\") # O(n^2 * 2^n)\n",
    "display(my_distrib_center.plot())\n",
    "print(my_distrib_center.info())"
   ]
  },
  {
   "cell_type": "code",
   "execution_count": null,
   "id": "b1379d59",
   "metadata": {},
   "outputs": [],
   "source": [
    "# cost uses driving distance\n",
    "# x1 for driving route, x2 for geodesic distance\n"
   ]
  },
  {
   "cell_type": "code",
   "execution_count": null,
   "id": "41d9dd97",
   "metadata": {},
   "outputs": [],
   "source": []
  }
 ],
 "metadata": {
  "kernelspec": {
   "display_name": "Python 3 (ipykernel)",
   "language": "python",
   "name": "python3"
  },
  "language_info": {
   "codemirror_mode": {
    "name": "ipython",
    "version": 3
   },
   "file_extension": ".py",
   "mimetype": "text/x-python",
   "name": "python",
   "nbconvert_exporter": "python",
   "pygments_lexer": "ipython3",
   "version": "3.9.0"
  }
 },
 "nbformat": 4,
 "nbformat_minor": 5
}
