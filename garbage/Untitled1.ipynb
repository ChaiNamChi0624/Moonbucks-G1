{
 "cells": [
  {
   "cell_type": "code",
   "execution_count": 1,
   "id": "3e064572",
   "metadata": {
    "scrolled": false
   },
   "outputs": [
    {
     "ename": "NameError",
     "evalue": "name 'SelectDistribCenter' is not defined",
     "output_type": "error",
     "traceback": [
      "\u001b[1;31m---------------------------------------------------------------------------\u001b[0m",
      "\u001b[1;31mNameError\u001b[0m                                 Traceback (most recent call last)",
      "Input \u001b[1;32mIn [1]\u001b[0m, in \u001b[0;36m<cell line: 1>\u001b[1;34m()\u001b[0m\n\u001b[1;32m----> 1\u001b[0m distrib_center \u001b[38;5;241m=\u001b[39m \u001b[43mSelectDistribCenter\u001b[49m(country_code\u001b[38;5;241m=\u001b[39m\u001b[38;5;124m\"\u001b[39m\u001b[38;5;124mPL\u001b[39m\u001b[38;5;124m\"\u001b[39m)\n",
      "\u001b[1;31mNameError\u001b[0m: name 'SelectDistribCenter' is not defined"
     ]
    }
   ],
   "source": [
    "distrib_center = SelectDistribCenter(country_code=\"PL\")"
   ]
  },
  {
   "cell_type": "code",
   "execution_count": null,
   "id": "8f6875f0",
   "metadata": {},
   "outputs": [],
   "source": [
    "distrib_center.distrib_center_idx"
   ]
  },
  {
   "cell_type": "code",
   "execution_count": null,
   "id": "74686ac1",
   "metadata": {},
   "outputs": [],
   "source": [
    "distrib_center.direction_info"
   ]
  },
  {
   "cell_type": "code",
   "execution_count": null,
   "id": "0f5dde4d",
   "metadata": {},
   "outputs": [],
   "source": [
    "df = load_dataset()\n",
    "local_store_df = get_local_stores(df, country_code=\"MY\")\n",
    "distrib_center_coord = local_store_df.iloc[distrib_center.distrib_center_idx][\"latitude\"], local_store_df.iloc[distrib_center.distrib_center_idx][\"longitude\"]\n",
    "distrib_center_coord"
   ]
  },
  {
   "cell_type": "code",
   "execution_count": null,
   "id": "5f065141",
   "metadata": {},
   "outputs": [],
   "source": [
    "import folium\n",
    "\n",
    "folium_map = folium.Map(location=distrib_center_coord, control_scale=True, tiles=\"cartodbpositron\")\n",
    "folium.Marker(location=distrib_center_coord, icon=folium.Icon(color=\"green\")).add_to(folium_map)\n",
    "for idx, (dist, path) in enumerate(zip(distrib_center.distances, distrib_center.paths)):\n",
    "    duration = path[\"duration\"]\n",
    "    path = path[\"path\"]\n",
    "    \n",
    "    if path != None and duration != None:\n",
    "        folium.GeoJson(path).add_child(folium.Popup(f\"{dist} - {duration}\", max_width=300)).add_to(folium_map)\n",
    "        store_coord = local_store_df.iloc[idx][\"latitude\"], local_store_df.iloc[idx][\"longitude\"]\n",
    "        folium.Marker(location=store_coord, icon=folium.Icon(color=\"red\")).add_to(folium_map)\n"
   ]
  },
  {
   "cell_type": "code",
   "execution_count": null,
   "id": "cd8e0c0b",
   "metadata": {},
   "outputs": [],
   "source": [
    "folium_map"
   ]
  },
  {
   "cell_type": "code",
   "execution_count": null,
   "id": "cbf94d52",
   "metadata": {},
   "outputs": [],
   "source": []
  },
  {
   "cell_type": "code",
   "execution_count": null,
   "id": "aa70016f",
   "metadata": {},
   "outputs": [],
   "source": [
    "with open(\"mapbox_api_key.txt\") as f:\n",
    "    api_key = f.readline()\n",
    "os.environ['MAPBOX_ACCESS_TOKEN'] = api_key\n",
    "service = Directions()"
   ]
  },
  {
   "cell_type": "code",
   "execution_count": null,
   "id": "dd6e67e5",
   "metadata": {},
   "outputs": [],
   "source": [
    "coord1 = (101.62148, 3.13326)\n",
    "coord2 = (101.54539, 3.13432)\n",
    "response = service.directions([coord1, coord2], profile=\"mapbox/driving\")"
   ]
  },
  {
   "cell_type": "code",
   "execution_count": null,
   "id": "ef28baba",
   "metadata": {
    "scrolled": true
   },
   "outputs": [],
   "source": [
    "path = response.geojson()[\"features\"][0][\"geometry\"]\n",
    "path"
   ]
  },
  {
   "cell_type": "code",
   "execution_count": null,
   "id": "2d2f1c2c",
   "metadata": {
    "scrolled": false
   },
   "outputs": [],
   "source": [
    "import folium\n",
    "\n",
    "folium_map = folium.Map(location=coord1[::-1], control_scale=True, tiles=\"cartodbpositron\")\n",
    "\n",
    "folium.GeoJson(path).add_to(folium_map)\n",
    "folium_map\n"
   ]
  },
  {
   "cell_type": "code",
   "execution_count": null,
   "id": "414d5a1d",
   "metadata": {},
   "outputs": [],
   "source": [
    "distrib_center.build_map()"
   ]
  },
  {
   "cell_type": "code",
   "execution_count": null,
   "id": "28b45f2b",
   "metadata": {},
   "outputs": [],
   "source": [
    "distrib_center.info()"
   ]
  },
  {
   "cell_type": "code",
   "execution_count": null,
   "id": "b8ba9b65",
   "metadata": {},
   "outputs": [],
   "source": [
    "distrib_center.build_map()"
   ]
  },
  {
   "cell_type": "code",
   "execution_count": 1,
   "id": "e6a06093",
   "metadata": {},
   "outputs": [],
   "source": [
    "from distribution_center import SelectDistribCenter"
   ]
  },
  {
   "cell_type": "code",
   "execution_count": 2,
   "id": "8b12e352",
   "metadata": {
    "scrolled": false
   },
   "outputs": [],
   "source": [
    "distrib_center = SelectDistribCenter(country_code=\"PL\")"
   ]
  },
  {
   "cell_type": "code",
   "execution_count": 3,
   "id": "e85706d4",
   "metadata": {},
   "outputs": [
    {
     "data": {
      "text/plain": [
       "{'name': 'Galaxy',\n",
       " 'url': 'https://www.starbucks.com/store-locator/store/5503',\n",
       " 'street_address': 'Aleja Solidarności 82',\n",
       " 'city': 'Warszawa',\n",
       " 'zip_code': '00-144',\n",
       " 'country_code': 'PL',\n",
       " 'country': 'Poland',\n",
       " 'open_hours': 'Wednesday : 7:00 AM to 9:00 PM, Thursday : 7:00 AM to 9:00 PM, Thursday : 7:00 AM to 9:00 PM, Friday : 7:00 AM to 9:00 PM, Saturday : 9:00 AM to 9:00 PM, Sunday : 9:00 AM to 9:00 PM, Monday : 7:00 AM to 9:00 PM',\n",
       " 'latitude': 52.242465,\n",
       " 'longitude': 20.994313}"
      ]
     },
     "execution_count": 3,
     "metadata": {},
     "output_type": "execute_result"
    }
   ],
   "source": [
    "distrib_center.info()"
   ]
  },
  {
   "cell_type": "code",
   "execution_count": 4,
   "id": "1c2f90d0",
   "metadata": {},
   "outputs": [
    {
     "data": {
      "text/html": [
       "<div style=\"width:100%;\"><div style=\"position:relative;width:100%;height:0;padding-bottom:60%;\"><span style=\"color:#565656\">Make this Notebook Trusted to load map: File -> Trust Notebook</span><iframe srcdoc=\"&lt;!DOCTYPE html&gt;\n",
       "&lt;head&gt;    \n",
       "    &lt;meta http-equiv=&quot;content-type&quot; content=&quot;text/html; charset=UTF-8&quot; /&gt;\n",
       "    \n",
       "        &lt;script&gt;\n",
       "            L_NO_TOUCH = false;\n",
       "            L_DISABLE_3D = false;\n",
       "        &lt;/script&gt;\n",
       "    \n",
       "    &lt;style&gt;html, body {width: 100%;height: 100%;margin: 0;padding: 0;}&lt;/style&gt;\n",
       "    &lt;style&gt;#map {position:absolute;top:0;bottom:0;right:0;left:0;}&lt;/style&gt;\n",
       "    &lt;script src=&quot;https://cdn.jsdelivr.net/npm/leaflet@1.6.0/dist/leaflet.js&quot;&gt;&lt;/script&gt;\n",
       "    &lt;script src=&quot;https://code.jquery.com/jquery-1.12.4.min.js&quot;&gt;&lt;/script&gt;\n",
       "    &lt;script src=&quot;https://maxcdn.bootstrapcdn.com/bootstrap/3.2.0/js/bootstrap.min.js&quot;&gt;&lt;/script&gt;\n",
       "    &lt;script src=&quot;https://cdnjs.cloudflare.com/ajax/libs/Leaflet.awesome-markers/2.0.2/leaflet.awesome-markers.js&quot;&gt;&lt;/script&gt;\n",
       "    &lt;link rel=&quot;stylesheet&quot; href=&quot;https://cdn.jsdelivr.net/npm/leaflet@1.6.0/dist/leaflet.css&quot;/&gt;\n",
       "    &lt;link rel=&quot;stylesheet&quot; href=&quot;https://maxcdn.bootstrapcdn.com/bootstrap/3.2.0/css/bootstrap.min.css&quot;/&gt;\n",
       "    &lt;link rel=&quot;stylesheet&quot; href=&quot;https://maxcdn.bootstrapcdn.com/bootstrap/3.2.0/css/bootstrap-theme.min.css&quot;/&gt;\n",
       "    &lt;link rel=&quot;stylesheet&quot; href=&quot;https://maxcdn.bootstrapcdn.com/font-awesome/4.6.3/css/font-awesome.min.css&quot;/&gt;\n",
       "    &lt;link rel=&quot;stylesheet&quot; href=&quot;https://cdnjs.cloudflare.com/ajax/libs/Leaflet.awesome-markers/2.0.2/leaflet.awesome-markers.css&quot;/&gt;\n",
       "    &lt;link rel=&quot;stylesheet&quot; href=&quot;https://cdn.jsdelivr.net/gh/python-visualization/folium/folium/templates/leaflet.awesome.rotate.min.css&quot;/&gt;\n",
       "    \n",
       "            &lt;meta name=&quot;viewport&quot; content=&quot;width=device-width,\n",
       "                initial-scale=1.0, maximum-scale=1.0, user-scalable=no&quot; /&gt;\n",
       "            &lt;style&gt;\n",
       "                #map_1d97fbdc5c02772ffe4a096fdda80b86 {\n",
       "                    position: relative;\n",
       "                    width: 100.0%;\n",
       "                    height: 100.0%;\n",
       "                    left: 0.0%;\n",
       "                    top: 0.0%;\n",
       "                }\n",
       "            &lt;/style&gt;\n",
       "        \n",
       "&lt;/head&gt;\n",
       "&lt;body&gt;    \n",
       "    \n",
       "            &lt;div class=&quot;folium-map&quot; id=&quot;map_1d97fbdc5c02772ffe4a096fdda80b86&quot; &gt;&lt;/div&gt;\n",
       "        \n",
       "&lt;/body&gt;\n",
       "&lt;script&gt;    \n",
       "    \n",
       "            var map_1d97fbdc5c02772ffe4a096fdda80b86 = L.map(\n",
       "                &quot;map_1d97fbdc5c02772ffe4a096fdda80b86&quot;,\n",
       "                {\n",
       "                    center: [52.242465, 20.994313],\n",
       "                    crs: L.CRS.EPSG3857,\n",
       "                    zoom: 10,\n",
       "                    zoomControl: true,\n",
       "                    preferCanvas: false,\n",
       "                }\n",
       "            );\n",
       "            L.control.scale().addTo(map_1d97fbdc5c02772ffe4a096fdda80b86);\n",
       "\n",
       "            \n",
       "\n",
       "        \n",
       "    \n",
       "            var tile_layer_64f88fd50fa45ee8a678364eda45fa59 = L.tileLayer(\n",
       "                &quot;https://{s}.tile.openstreetmap.org/{z}/{x}/{y}.png&quot;,\n",
       "                {&quot;attribution&quot;: &quot;Data by \\u0026copy; \\u003ca href=\\&quot;http://openstreetmap.org\\&quot;\\u003eOpenStreetMap\\u003c/a\\u003e, under \\u003ca href=\\&quot;http://www.openstreetmap.org/copyright\\&quot;\\u003eODbL\\u003c/a\\u003e.&quot;, &quot;detectRetina&quot;: false, &quot;maxNativeZoom&quot;: 18, &quot;maxZoom&quot;: 18, &quot;minZoom&quot;: 0, &quot;noWrap&quot;: false, &quot;opacity&quot;: 1, &quot;subdomains&quot;: &quot;abc&quot;, &quot;tms&quot;: false}\n",
       "            ).addTo(map_1d97fbdc5c02772ffe4a096fdda80b86);\n",
       "        \n",
       "    \n",
       "            var marker_6b6677e18aae083df7755fc58cf86830 = L.marker(\n",
       "                [52.242465, 20.994313],\n",
       "                {}\n",
       "            ).addTo(map_1d97fbdc5c02772ffe4a096fdda80b86);\n",
       "        \n",
       "    \n",
       "            var icon_4d4b742a44309a3a110e902a03e6def8 = L.AwesomeMarkers.icon(\n",
       "                {&quot;extraClasses&quot;: &quot;fa-rotate-0&quot;, &quot;icon&quot;: &quot;building-o&quot;, &quot;iconColor&quot;: &quot;white&quot;, &quot;markerColor&quot;: &quot;green&quot;, &quot;prefix&quot;: &quot;fa&quot;}\n",
       "            );\n",
       "            marker_6b6677e18aae083df7755fc58cf86830.setIcon(icon_4d4b742a44309a3a110e902a03e6def8);\n",
       "        \n",
       "    \n",
       "            marker_6b6677e18aae083df7755fc58cf86830.bindTooltip(\n",
       "                `&lt;div&gt;\n",
       "                     \n",
       "            &lt;h3&gt;Galaxy&lt;/h3&gt;\n",
       "            &lt;p&gt;&lt;b&gt;Address&lt;/b&gt; : Aleja Solidarności 82, 00-144, Warszawa, Poland&lt;/p&gt;\n",
       "            &lt;table&gt;\n",
       "                &lt;tr&gt;&lt;th&gt;Opening Hours&lt;/th&gt;&lt;/tr&gt;\n",
       "                &lt;tr&gt;&lt;td&gt;Wednesday : 7:00 AM to 9:00 PM&lt;/tr&gt;&lt;/td&gt;&lt;tr&gt;&lt;td&gt;Thursday : 7:00 AM to 9:00 PM&lt;/tr&gt;&lt;/td&gt;&lt;tr&gt;&lt;td&gt;Thursday : 7:00 AM to 9:00 PM&lt;/tr&gt;&lt;/td&gt;&lt;tr&gt;&lt;td&gt;Friday : 7:00 AM to 9:00 PM&lt;/tr&gt;&lt;/td&gt;&lt;tr&gt;&lt;td&gt;Saturday : 9:00 AM to 9:00 PM&lt;/tr&gt;&lt;/td&gt;&lt;tr&gt;&lt;td&gt;Sunday : 9:00 AM to 9:00 PM&lt;/tr&gt;&lt;/td&gt;&lt;tr&gt;&lt;td&gt;Monday : 7:00 AM to 9:00 PM&lt;/tr&gt;&lt;/td&gt;\n",
       "            &lt;/table&gt;\n",
       "        \n",
       "                 &lt;/div&gt;`,\n",
       "                {&quot;sticky&quot;: true}\n",
       "            );\n",
       "        \n",
       "    \n",
       "\n",
       "        function geo_json_fc997e579c4d27c47017bf9aacb20b10_onEachFeature(feature, layer) {\n",
       "            layer.on({\n",
       "            });\n",
       "        };\n",
       "        var geo_json_fc997e579c4d27c47017bf9aacb20b10 = L.geoJson(null, {\n",
       "                onEachFeature: geo_json_fc997e579c4d27c47017bf9aacb20b10_onEachFeature,\n",
       "            \n",
       "        });\n",
       "\n",
       "        function geo_json_fc997e579c4d27c47017bf9aacb20b10_add (data) {\n",
       "            geo_json_fc997e579c4d27c47017bf9aacb20b10\n",
       "                .addData(data)\n",
       "                .addTo(map_1d97fbdc5c02772ffe4a096fdda80b86);\n",
       "        }\n",
       "            geo_json_fc997e579c4d27c47017bf9aacb20b10_add({&quot;coordinates&quot;: [[17.06231, 51.11151], [17.06187, 51.11088], [17.06128, 51.11158], [17.08178, 51.13867], [17.10125, 51.14385], [17.357, 51.22345], [17.47804, 51.23149], [17.60801, 51.3055], [17.89763, 51.29959], [18.11773, 51.33795], [18.20033, 51.3053], [18.41834, 51.31584], [18.63192, 51.40645], [18.70353, 51.54751], [18.81772, 51.59134], [18.87045, 51.59791], [19.09521, 51.55339], [19.22378, 51.59308], [19.53664, 51.64284], [19.56424, 51.63997], [19.56849, 51.63849], [19.60783, 51.71183], [19.59751, 51.76627], [19.65876, 51.84002], [19.64231, 51.88379], [19.6395, 51.88714], [19.7354, 51.90641], [20.04094, 52.04186], [20.32393, 52.07552], [20.83249, 52.19818], [20.89274, 52.24288], [20.94565, 52.25403], [20.94698, 52.25532], [20.95374, 52.26203], [20.98352, 52.25319], [20.991, 52.24463], [20.99916, 52.24738], [21.00088, 52.24438], [20.99448, 52.24228]], &quot;type&quot;: &quot;LineString&quot;});\n",
       "\n",
       "        \n",
       "    \n",
       "        var popup_3c9b10fce0a17b50ea3c3bcc962ca4ba = L.popup({&quot;maxWidth&quot;: 300});\n",
       "\n",
       "        \n",
       "            var html_249453bb4a8c3f45856ab11946a0ec4e = $(`&lt;div id=&quot;html_249453bb4a8c3f45856ab11946a0ec4e&quot; style=&quot;width: 100.0%; height: 100.0%;&quot;&gt;&lt;b&gt;cur_dist : &lt;/b&gt; 345.600438 km &lt;br&gt;&lt;b&gt;cur_dur : &lt;/b&gt; 219.25635 minutes&lt;/div&gt;`)[0];\n",
       "            popup_3c9b10fce0a17b50ea3c3bcc962ca4ba.setContent(html_249453bb4a8c3f45856ab11946a0ec4e);\n",
       "        \n",
       "\n",
       "        geo_json_fc997e579c4d27c47017bf9aacb20b10.bindPopup(popup_3c9b10fce0a17b50ea3c3bcc962ca4ba)\n",
       "        ;\n",
       "\n",
       "        \n",
       "    \n",
       "    \n",
       "\n",
       "        function geo_json_597fb44337f66b91d5912f65ffc0cd75_onEachFeature(feature, layer) {\n",
       "            layer.on({\n",
       "            });\n",
       "        };\n",
       "        var geo_json_597fb44337f66b91d5912f65ffc0cd75 = L.geoJson(null, {\n",
       "                onEachFeature: geo_json_597fb44337f66b91d5912f65ffc0cd75_onEachFeature,\n",
       "            \n",
       "        });\n",
       "\n",
       "        function geo_json_597fb44337f66b91d5912f65ffc0cd75_add (data) {\n",
       "            geo_json_597fb44337f66b91d5912f65ffc0cd75\n",
       "                .addData(data)\n",
       "                .addTo(map_1d97fbdc5c02772ffe4a096fdda80b86);\n",
       "        }\n",
       "            geo_json_597fb44337f66b91d5912f65ffc0cd75_add({&quot;coordinates&quot;: [[21.01245, 52.2309], [21.01145, 52.2306], [21.00692, 52.23812], [21.00561, 52.23903], [21.00504, 52.23973], [21.00469, 52.24119], [21.00352, 52.24241], [21.00103, 52.24442], [20.99448, 52.24228]], &quot;type&quot;: &quot;LineString&quot;});\n",
       "\n",
       "        \n",
       "    \n",
       "        var popup_9618cebee62c2aa901bf55d1125d48e3 = L.popup({&quot;maxWidth&quot;: 300});\n",
       "\n",
       "        \n",
       "            var html_688bad73c0709743cb303bbe38056f11 = $(`&lt;div id=&quot;html_688bad73c0709743cb303bbe38056f11&quot; style=&quot;width: 100.0%; height: 100.0%;&quot;&gt;&lt;b&gt;cur_dist : &lt;/b&gt; 2.302737 km &lt;br&gt;&lt;b&gt;cur_dur : &lt;/b&gt; 6.2282 minutes&lt;/div&gt;`)[0];\n",
       "            popup_9618cebee62c2aa901bf55d1125d48e3.setContent(html_688bad73c0709743cb303bbe38056f11);\n",
       "        \n",
       "\n",
       "        geo_json_597fb44337f66b91d5912f65ffc0cd75.bindPopup(popup_9618cebee62c2aa901bf55d1125d48e3)\n",
       "        ;\n",
       "\n",
       "        \n",
       "    \n",
       "    \n",
       "\n",
       "        function geo_json_8b4c2437a69bb915ce8d20ed8d3ec510_onEachFeature(feature, layer) {\n",
       "            layer.on({\n",
       "            });\n",
       "        };\n",
       "        var geo_json_8b4c2437a69bb915ce8d20ed8d3ec510 = L.geoJson(null, {\n",
       "                onEachFeature: geo_json_8b4c2437a69bb915ce8d20ed8d3ec510_onEachFeature,\n",
       "            \n",
       "        });\n",
       "\n",
       "        function geo_json_8b4c2437a69bb915ce8d20ed8d3ec510_add (data) {\n",
       "            geo_json_8b4c2437a69bb915ce8d20ed8d3ec510\n",
       "                .addData(data)\n",
       "                .addTo(map_1d97fbdc5c02772ffe4a096fdda80b86);\n",
       "        }\n",
       "            geo_json_8b4c2437a69bb915ce8d20ed8d3ec510_add({&quot;coordinates&quot;: [[21.00171, 52.24544], [21.00269, 52.24575], [21.00315, 52.24522], [21.00272, 52.2451], [21.0013, 52.24451], [20.99448, 52.24228]], &quot;type&quot;: &quot;LineString&quot;});\n",
       "\n",
       "        \n",
       "    \n",
       "        var popup_cb5cf0422a4a8ffbaa59f98e346034b8 = L.popup({&quot;maxWidth&quot;: 300});\n",
       "\n",
       "        \n",
       "            var html_ff4a36f2ea65d0c6979b849357e80fc4 = $(`&lt;div id=&quot;html_ff4a36f2ea65d0c6979b849357e80fc4&quot; style=&quot;width: 100.0%; height: 100.0%;&quot;&gt;&lt;b&gt;cur_dist : &lt;/b&gt; 0.81752 km &lt;br&gt;&lt;b&gt;cur_dur : &lt;/b&gt; 2.5567833333333336 minutes&lt;/div&gt;`)[0];\n",
       "            popup_cb5cf0422a4a8ffbaa59f98e346034b8.setContent(html_ff4a36f2ea65d0c6979b849357e80fc4);\n",
       "        \n",
       "\n",
       "        geo_json_8b4c2437a69bb915ce8d20ed8d3ec510.bindPopup(popup_cb5cf0422a4a8ffbaa59f98e346034b8)\n",
       "        ;\n",
       "\n",
       "        \n",
       "    \n",
       "    \n",
       "\n",
       "        function geo_json_836c7aa01a43f3d39dddf40def92e936_onEachFeature(feature, layer) {\n",
       "            layer.on({\n",
       "            });\n",
       "        };\n",
       "        var geo_json_836c7aa01a43f3d39dddf40def92e936 = L.geoJson(null, {\n",
       "                onEachFeature: geo_json_836c7aa01a43f3d39dddf40def92e936_onEachFeature,\n",
       "            \n",
       "        });\n",
       "\n",
       "        function geo_json_836c7aa01a43f3d39dddf40def92e936_add (data) {\n",
       "            geo_json_836c7aa01a43f3d39dddf40def92e936\n",
       "                .addData(data)\n",
       "                .addTo(map_1d97fbdc5c02772ffe4a096fdda80b86);\n",
       "        }\n",
       "            geo_json_836c7aa01a43f3d39dddf40def92e936_add({&quot;coordinates&quot;: [[20.99448, 52.24228], [20.99338, 52.2419], [20.99567, 52.23917], [20.99771, 52.23421], [20.99777, 52.23326], [20.99792, 52.23288], [20.99841, 52.23281], [20.9995, 52.23332], [21.00247, 52.23397], [21.01888, 52.23716], [21.01899, 52.23672], [21.01852, 52.23665], [21.01858, 52.23642]], &quot;type&quot;: &quot;LineString&quot;});\n",
       "\n",
       "        \n",
       "    \n",
       "        var popup_8bbd815aa323e91fee11a7c854055492 = L.popup({&quot;maxWidth&quot;: 300});\n",
       "\n",
       "        \n",
       "            var html_fe930dee90947b9ecb0cbf82bc07ed84 = $(`&lt;div id=&quot;html_fe930dee90947b9ecb0cbf82bc07ed84&quot; style=&quot;width: 100.0%; height: 100.0%;&quot;&gt;&lt;b&gt;cur_dist : &lt;/b&gt; 2.7768710000000003 km &lt;br&gt;&lt;b&gt;cur_dur : &lt;/b&gt; 9.371466666666667 minutes&lt;/div&gt;`)[0];\n",
       "            popup_8bbd815aa323e91fee11a7c854055492.setContent(html_fe930dee90947b9ecb0cbf82bc07ed84);\n",
       "        \n",
       "\n",
       "        geo_json_836c7aa01a43f3d39dddf40def92e936.bindPopup(popup_8bbd815aa323e91fee11a7c854055492)\n",
       "        ;\n",
       "\n",
       "        \n",
       "    \n",
       "    \n",
       "\n",
       "        function geo_json_e7a4b6a4eb436b4f9a22b26d2c836be5_onEachFeature(feature, layer) {\n",
       "            layer.on({\n",
       "            });\n",
       "        };\n",
       "        var geo_json_e7a4b6a4eb436b4f9a22b26d2c836be5 = L.geoJson(null, {\n",
       "                onEachFeature: geo_json_e7a4b6a4eb436b4f9a22b26d2c836be5_onEachFeature,\n",
       "            \n",
       "        });\n",
       "\n",
       "        function geo_json_e7a4b6a4eb436b4f9a22b26d2c836be5_add (data) {\n",
       "            geo_json_e7a4b6a4eb436b4f9a22b26d2c836be5\n",
       "                .addData(data)\n",
       "                .addTo(map_1d97fbdc5c02772ffe4a096fdda80b86);\n",
       "        }\n",
       "            geo_json_e7a4b6a4eb436b4f9a22b26d2c836be5_add({&quot;coordinates&quot;: [[20.99448, 52.24228], [20.98542, 52.23927], [20.95641, 52.23806], [20.95826, 52.24441], [20.95189, 52.255], [20.89264, 52.24301], [20.84743, 52.20396], [20.78882, 52.19046], [20.32386, 52.07568], [20.04233, 52.04239], [19.72962, 51.90452], [19.59171, 51.88874], [19.18213, 51.94355], [18.87363, 52.03652], [18.73365, 52.11434], [18.6156, 52.13949], [18.46628, 52.1528], [18.34724, 52.14047], [18.18763, 52.16596], [17.58894, 52.30858], [17.17267, 52.30742], [17.00985, 52.34499], [17.00436, 52.34575], [16.95119, 52.39577], [16.9235, 52.4011], [16.92215, 52.4022], [16.92324, 52.40257], [16.92468, 52.40212], [16.92519, 52.40194], [16.92551, 52.40212], [16.9255, 52.40223]], &quot;type&quot;: &quot;LineString&quot;});\n",
       "\n",
       "        \n",
       "    \n",
       "        var popup_487d19be30f933f64ee91a0196accb03 = L.popup({&quot;maxWidth&quot;: 300});\n",
       "\n",
       "        \n",
       "            var html_735ed354db544d5f3d78fcf0553b09f1 = $(`&lt;div id=&quot;html_735ed354db544d5f3d78fcf0553b09f1&quot; style=&quot;width: 100.0%; height: 100.0%;&quot;&gt;&lt;b&gt;cur_dist : &lt;/b&gt; 308.682188 km &lt;br&gt;&lt;b&gt;cur_dur : &lt;/b&gt; 180.00165 minutes&lt;/div&gt;`)[0];\n",
       "            popup_487d19be30f933f64ee91a0196accb03.setContent(html_735ed354db544d5f3d78fcf0553b09f1);\n",
       "        \n",
       "\n",
       "        geo_json_e7a4b6a4eb436b4f9a22b26d2c836be5.bindPopup(popup_487d19be30f933f64ee91a0196accb03)\n",
       "        ;\n",
       "\n",
       "        \n",
       "    \n",
       "    \n",
       "\n",
       "        function geo_json_21c44965d0a01108aa2ce601a9e5f053_onEachFeature(feature, layer) {\n",
       "            layer.on({\n",
       "            });\n",
       "        };\n",
       "        var geo_json_21c44965d0a01108aa2ce601a9e5f053 = L.geoJson(null, {\n",
       "                onEachFeature: geo_json_21c44965d0a01108aa2ce601a9e5f053_onEachFeature,\n",
       "            \n",
       "        });\n",
       "\n",
       "        function geo_json_21c44965d0a01108aa2ce601a9e5f053_add (data) {\n",
       "            geo_json_21c44965d0a01108aa2ce601a9e5f053\n",
       "                .addData(data)\n",
       "                .addTo(map_1d97fbdc5c02772ffe4a096fdda80b86);\n",
       "        }\n",
       "            geo_json_21c44965d0a01108aa2ce601a9e5f053_add({&quot;coordinates&quot;: [[20.99448, 52.24228], [20.99338, 52.2419], [20.99777, 52.23326], [21.00016, 52.2302], [21.00154, 52.22784], [20.98921, 52.22516], [20.91491, 52.18043], [20.8806, 52.1362], [20.84072, 51.954], [20.85089, 51.86464], [20.93651, 51.68444], [21.00249, 51.58038], [21.08456, 51.52398], [21.03465, 51.44556], [21.01592, 51.31781], [20.87461, 51.23758], [20.81059, 51.01178], [20.66437, 50.93547], [20.52954, 50.89394], [20.46769, 50.82925], [20.4853, 50.80639], [20.46138, 50.75937], [20.41648, 50.7449], [20.39947, 50.70228], [20.20368, 50.55671], [20.17841, 50.47699], [20.04539, 50.37229], [20.03731, 50.31864], [20.03755, 50.31801], [20.03923, 50.31286], [20.03615, 50.31376], [20.01683, 50.21038], [20.01612, 50.20659], [19.97802, 50.17169], [19.94755, 50.07644], [19.944, 50.07327], [19.94461, 50.07196], [19.94428, 50.07146], [19.94284, 50.06726], [19.94371, 50.06728], [19.94343, 50.06634], [19.94506, 50.066], [19.94511, 50.06701]], &quot;type&quot;: &quot;LineString&quot;});\n",
       "\n",
       "        \n",
       "    \n",
       "        var popup_03a7dd0e25371b50e827154974fa5ece = L.popup({&quot;maxWidth&quot;: 300});\n",
       "\n",
       "        \n",
       "            var html_b7cba0bb336def5d4f9a332a98935c2f = $(`&lt;div id=&quot;html_b7cba0bb336def5d4f9a332a98935c2f&quot; style=&quot;width: 100.0%; height: 100.0%;&quot;&gt;&lt;b&gt;cur_dist : &lt;/b&gt; 290.273656 km &lt;br&gt;&lt;b&gt;cur_dur : &lt;/b&gt; 216.65356666666668 minutes&lt;/div&gt;`)[0];\n",
       "            popup_03a7dd0e25371b50e827154974fa5ece.setContent(html_b7cba0bb336def5d4f9a332a98935c2f);\n",
       "        \n",
       "\n",
       "        geo_json_21c44965d0a01108aa2ce601a9e5f053.bindPopup(popup_03a7dd0e25371b50e827154974fa5ece)\n",
       "        ;\n",
       "\n",
       "        \n",
       "    \n",
       "    \n",
       "\n",
       "        function geo_json_bc8a4a602d2ed72657e9de74f51c18ff_onEachFeature(feature, layer) {\n",
       "            layer.on({\n",
       "            });\n",
       "        };\n",
       "        var geo_json_bc8a4a602d2ed72657e9de74f51c18ff = L.geoJson(null, {\n",
       "                onEachFeature: geo_json_bc8a4a602d2ed72657e9de74f51c18ff_onEachFeature,\n",
       "            \n",
       "        });\n",
       "\n",
       "        function geo_json_bc8a4a602d2ed72657e9de74f51c18ff_add (data) {\n",
       "            geo_json_bc8a4a602d2ed72657e9de74f51c18ff\n",
       "                .addData(data)\n",
       "                .addTo(map_1d97fbdc5c02772ffe4a096fdda80b86);\n",
       "        }\n",
       "            geo_json_bc8a4a602d2ed72657e9de74f51c18ff_add({&quot;coordinates&quot;: [[20.99448, 52.24228], [20.99338, 52.2419], [20.99567, 52.23917], [20.99777, 52.23326], [21.00016, 52.2302], [21.00154, 52.22784], [21.00205, 52.22748], [21.01151, 52.22953], [21.01591, 52.22207], [21.0155, 52.21995], [21.01756, 52.21979], [21.01674, 52.21811]], &quot;type&quot;: &quot;LineString&quot;});\n",
       "\n",
       "        \n",
       "    \n",
       "        var popup_278c38d8a4cf1a7c645069b9c0e274ad = L.popup({&quot;maxWidth&quot;: 300});\n",
       "\n",
       "        \n",
       "            var html_a74bc675ff8bcf69860ee79d9d694105 = $(`&lt;div id=&quot;html_a74bc675ff8bcf69860ee79d9d694105&quot; style=&quot;width: 100.0%; height: 100.0%;&quot;&gt;&lt;b&gt;cur_dist : &lt;/b&gt; 3.996614 km &lt;br&gt;&lt;b&gt;cur_dur : &lt;/b&gt; 11.981633333333333 minutes&lt;/div&gt;`)[0];\n",
       "            popup_278c38d8a4cf1a7c645069b9c0e274ad.setContent(html_a74bc675ff8bcf69860ee79d9d694105);\n",
       "        \n",
       "\n",
       "        geo_json_bc8a4a602d2ed72657e9de74f51c18ff.bindPopup(popup_278c38d8a4cf1a7c645069b9c0e274ad)\n",
       "        ;\n",
       "\n",
       "        \n",
       "    \n",
       "    \n",
       "\n",
       "        function geo_json_b9f2f224a9a9a7f511bc28b003caf8f9_onEachFeature(feature, layer) {\n",
       "            layer.on({\n",
       "            });\n",
       "        };\n",
       "        var geo_json_b9f2f224a9a9a7f511bc28b003caf8f9 = L.geoJson(null, {\n",
       "                onEachFeature: geo_json_b9f2f224a9a9a7f511bc28b003caf8f9_onEachFeature,\n",
       "            \n",
       "        });\n",
       "\n",
       "        function geo_json_b9f2f224a9a9a7f511bc28b003caf8f9_add (data) {\n",
       "            geo_json_b9f2f224a9a9a7f511bc28b003caf8f9\n",
       "                .addData(data)\n",
       "                .addTo(map_1d97fbdc5c02772ffe4a096fdda80b86);\n",
       "        }\n",
       "            geo_json_b9f2f224a9a9a7f511bc28b003caf8f9_add({&quot;coordinates&quot;: [[20.99448, 52.24228], [20.99371, 52.24201], [20.99234, 52.24357], [20.9935, 52.24175], [21.0063, 52.24598], [21.01403, 52.24672], [21.01948, 52.24704], [21.01983, 52.24732], [21.03046, 52.24087], [21.03688, 52.23411], [21.03966, 52.2325], [21.0413, 52.23049], [21.04377, 52.22383], [21.04291, 52.22338], [21.04311, 52.22407], [21.07095, 52.23047], [21.07632, 52.23351], [21.07959, 52.23536], [21.08634, 52.23612], [21.10512, 52.23381], [21.10527, 52.2336], [21.10904, 52.23317], [21.10898, 52.233], [21.10967, 52.23278], [21.10862, 52.23289]], &quot;type&quot;: &quot;LineString&quot;});\n",
       "\n",
       "        \n",
       "    \n",
       "        var popup_2c5caa32efba3b83a6256e64d0da3ed3 = L.popup({&quot;maxWidth&quot;: 300});\n",
       "\n",
       "        \n",
       "            var html_b3fbd8733197832b965bdbd5008703b1 = $(`&lt;div id=&quot;html_b3fbd8733197832b965bdbd5008703b1&quot; style=&quot;width: 100.0%; height: 100.0%;&quot;&gt;&lt;b&gt;cur_dist : &lt;/b&gt; 10.923199 km &lt;br&gt;&lt;b&gt;cur_dur : &lt;/b&gt; 21.515216666666667 minutes&lt;/div&gt;`)[0];\n",
       "            popup_2c5caa32efba3b83a6256e64d0da3ed3.setContent(html_b3fbd8733197832b965bdbd5008703b1);\n",
       "        \n",
       "\n",
       "        geo_json_b9f2f224a9a9a7f511bc28b003caf8f9.bindPopup(popup_2c5caa32efba3b83a6256e64d0da3ed3)\n",
       "        ;\n",
       "\n",
       "        \n",
       "    \n",
       "    \n",
       "\n",
       "        function geo_json_ffec15122f2bbf72e090b3fcbb7e8907_onEachFeature(feature, layer) {\n",
       "            layer.on({\n",
       "            });\n",
       "        };\n",
       "        var geo_json_ffec15122f2bbf72e090b3fcbb7e8907 = L.geoJson(null, {\n",
       "                onEachFeature: geo_json_ffec15122f2bbf72e090b3fcbb7e8907_onEachFeature,\n",
       "            \n",
       "        });\n",
       "\n",
       "        function geo_json_ffec15122f2bbf72e090b3fcbb7e8907_add (data) {\n",
       "            geo_json_ffec15122f2bbf72e090b3fcbb7e8907\n",
       "                .addData(data)\n",
       "                .addTo(map_1d97fbdc5c02772ffe4a096fdda80b86);\n",
       "        }\n",
       "            geo_json_ffec15122f2bbf72e090b3fcbb7e8907_add({&quot;coordinates&quot;: [[20.99448, 52.24228], [20.99371, 52.24201], [20.98583, 52.251], [20.9933, 52.25377], [21.00541, 52.25582], [21.00432, 52.25809], [21.00704, 52.25923], [21.00776, 52.25984], [20.58234, 52.45428], [20.47983, 52.57775], [20.38938, 52.613], [20.36287, 52.68673], [20.26351, 52.8926], [20.41258, 53.09816], [20.43995, 53.32676], [20.34087, 53.40598], [20.25596, 53.5798], [20.07892, 53.6004], [19.97474, 53.71044], [19.80272, 53.78373], [19.67357, 54.03504], [19.59619, 54.08933], [18.71036, 54.32056], [18.65366, 54.38681], [18.65108, 54.38799], [18.63162, 54.37777], [18.62431, 54.37578], [18.62394, 54.37588], [18.62377, 54.37582], [18.62368, 54.37572], [18.62431, 54.37261], [18.60722, 54.3782], [18.608, 54.37773]], &quot;type&quot;: &quot;LineString&quot;});\n",
       "\n",
       "        \n",
       "    \n",
       "        var popup_2da23aaf43d3b22b03604e416931a080 = L.popup({&quot;maxWidth&quot;: 300});\n",
       "\n",
       "        \n",
       "            var html_9296eedb135cf32ede0a4d218043c58b = $(`&lt;div id=&quot;html_9296eedb135cf32ede0a4d218043c58b&quot; style=&quot;width: 100.0%; height: 100.0%;&quot;&gt;&lt;b&gt;cur_dist : &lt;/b&gt; 343.97596899999996 km &lt;br&gt;&lt;b&gt;cur_dur : &lt;/b&gt; 224.95533333333333 minutes&lt;/div&gt;`)[0];\n",
       "            popup_2da23aaf43d3b22b03604e416931a080.setContent(html_9296eedb135cf32ede0a4d218043c58b);\n",
       "        \n",
       "\n",
       "        geo_json_ffec15122f2bbf72e090b3fcbb7e8907.bindPopup(popup_2da23aaf43d3b22b03604e416931a080)\n",
       "        ;\n",
       "\n",
       "        \n",
       "    \n",
       "&lt;/script&gt;\" style=\"position:absolute;width:100%;height:100%;left:0;top:0;border:none !important;\" allowfullscreen webkitallowfullscreen mozallowfullscreen></iframe></div></div>"
      ],
      "text/plain": [
       "<folium.folium.Map at 0x17393f71190>"
      ]
     },
     "execution_count": 4,
     "metadata": {},
     "output_type": "execute_result"
    }
   ],
   "source": [
    "distrib_center.plot()\n",
    "# different marker for stores and distribution center\n",
    "# Marker -> hover effect : name, address, open_hours\n",
    "# route -> click effect : hightlight / change color, distance, duration, from _ to _\n",
    "# highlight country\n",
    "# day/night mode"
   ]
  },
  {
   "cell_type": "code",
   "execution_count": null,
   "id": "c720a60d",
   "metadata": {},
   "outputs": [],
   "source": [
    "import folium\n",
    "\n",
    "folium.Marker(location=(52.242465, 20.994313), tooltip=folium.Tooltip(\"bcd\"), icon=folium.Icon(color=\"green\", icon=\"building-o\", prefix=\"fa\")).add_to(distrib_center.folium_map)"
   ]
  },
  {
   "cell_type": "code",
   "execution_count": null,
   "id": "87e4edc6",
   "metadata": {},
   "outputs": [],
   "source": [
    "folium.Marker(location=(52.242465, 20.994313), tooltip=folium.Tooltip(\"bcd\"), icon=folium.Icon(color=\"green\", icon=\"shopping-basket\", prefix=\"fa\")).add_to(distrib_center.folium_map)\n",
    "distrib_center.folium_map"
   ]
  },
  {
   "cell_type": "code",
   "execution_count": null,
   "id": "8ae83734",
   "metadata": {},
   "outputs": [],
   "source": [
    "from util import *\n",
    "\n",
    "get_local_stores(load_dataset(), country_code=\"CN\").iloc[0].to_dict()"
   ]
  },
  {
   "cell_type": "code",
   "execution_count": null,
   "id": "c4916b51",
   "metadata": {},
   "outputs": [],
   "source": [
    "get_local_stores(load_dataset(), country_code=\"MY\")"
   ]
  },
  {
   "cell_type": "code",
   "execution_count": null,
   "id": "151aeb61",
   "metadata": {},
   "outputs": [],
   "source": [
    "nan"
   ]
  },
  {
   "cell_type": "code",
   "execution_count": 11,
   "id": "33b234d4",
   "metadata": {},
   "outputs": [
    {
     "name": "stdout",
     "output_type": "stream",
     "text": [
      "Hello\n",
      "148 µs ± 0 ns per loop (mean ± std. dev. of 1 run, 1 loop each)\n"
     ]
    }
   ],
   "source": [
    "%%timeit -n1 -r1\n",
    "print(\"Hello\")"
   ]
  },
  {
   "cell_type": "code",
   "execution_count": 12,
   "id": "a107f7bd",
   "metadata": {},
   "outputs": [
    {
     "name": "stdout",
     "output_type": "stream",
     "text": [
      "0\n",
      "1\n",
      "2\n",
      "132 µs ± 0 ns per loop (mean ± std. dev. of 1 run, 1 loop each)\n"
     ]
    }
   ],
   "source": [
    "%%timeit -n1 -r1\n",
    "for i in range(3):\n",
    "    print(i)"
   ]
  },
  {
   "cell_type": "code",
   "execution_count": null,
   "id": "3eb133b4",
   "metadata": {},
   "outputs": [],
   "source": []
  }
 ],
 "metadata": {
  "kernelspec": {
   "display_name": "Python 3 (ipykernel)",
   "language": "python",
   "name": "python3"
  },
  "language_info": {
   "codemirror_mode": {
    "name": "ipython",
    "version": 3
   },
   "file_extension": ".py",
   "mimetype": "text/x-python",
   "name": "python",
   "nbconvert_exporter": "python",
   "pygments_lexer": "ipython3",
   "version": "3.9.13"
  }
 },
 "nbformat": 4,
 "nbformat_minor": 5
}
