{
 "cells": [
  {
   "cell_type": "code",
   "execution_count": 47,
   "metadata": {},
   "outputs": [
    {
     "ename": "ModuleNotFoundError",
     "evalue": "No module named 'ipynb'",
     "output_type": "error",
     "traceback": [
      "\u001b[1;31m---------------------------------------------------------------------------\u001b[0m",
      "\u001b[1;31mModuleNotFoundError\u001b[0m                       Traceback (most recent call last)",
      "\u001b[1;32mc:\\Users\\lebro\\OneDrive\\Desktop\\Year 2\\sem 2\\ADA\\Assignment - Copy - Copy\\Algo_Pblm_3.ipynb Cell 1'\u001b[0m in \u001b[0;36m<cell line: 6>\u001b[1;34m()\u001b[0m\n\u001b[0;32m      <a href='vscode-notebook-cell:/c%3A/Users/lebro/OneDrive/Desktop/Year%202/sem%202/ADA/Assignment%20-%20Copy%20-%20Copy/Algo_Pblm_3.ipynb#ch0000002?line=2'>3</a>\u001b[0m get_ipython()\u001b[39m.\u001b[39mrun_line_magic(\u001b[39m'\u001b[39m\u001b[39mstore\u001b[39m\u001b[39m'\u001b[39m, \u001b[39m'\u001b[39m\u001b[39m-r countryName\u001b[39m\u001b[39m'\u001b[39m)\n\u001b[0;32m      <a href='vscode-notebook-cell:/c%3A/Users/lebro/OneDrive/Desktop/Year%202/sem%202/ADA/Assignment%20-%20Copy%20-%20Copy/Algo_Pblm_3.ipynb#ch0000002?line=3'>4</a>\u001b[0m \u001b[39mfrom\u001b[39;00m \u001b[39mdistribution_center\u001b[39;00m \u001b[39mimport\u001b[39;00m DistributionCenter\n\u001b[1;32m----> <a href='vscode-notebook-cell:/c%3A/Users/lebro/OneDrive/Desktop/Year%202/sem%202/ADA/Assignment%20-%20Copy%20-%20Copy/Algo_Pblm_3.ipynb#ch0000002?line=5'>6</a>\u001b[0m \u001b[39mfrom\u001b[39;00m \u001b[39mipynb\u001b[39;00m\u001b[39m.\u001b[39;00m\u001b[39mfs\u001b[39;00m\u001b[39m.\u001b[39;00m\u001b[39mfullAlgo_Pblm_1\u001b[39;00m  \u001b[39mimport\u001b[39;00m SentimentAnalysis\n",
      "\u001b[1;31mModuleNotFoundError\u001b[0m: No module named 'ipynb'"
     ]
    }
   ],
   "source": [
    "%store -r pos2\n",
    "%store -r neg2\n",
    "%store -r countryName\n",
    "from distribution_center import DistributionCenter\n",
    "\n",
    "from ipynb.fs.full.Algo_Pblm_1 import SentimentAnalysis\n",
    "import import_ipynb\n",
    "import Algo_Pblm_1"
   ]
  },
  {
   "cell_type": "code",
   "execution_count": 24,
   "metadata": {},
   "outputs": [
    {
     "name": "stdout",
     "output_type": "stream",
     "text": [
      "None\n"
     ]
    }
   ],
   "source": [
    "\n",
    "\n",
    "#print(countryName)\n",
    "# sent = [pos2[i] / (pos2[i] + neg2[i]) for i in range(5)]\n",
    "# print(f\"Sentiment score: {sent}\")\n",
    "# all_scores = {}\n",
    "# output = {}\n",
    "# total_dist = 0\n",
    "# for country in countryName:\n",
    "# \tinput[country] = {sent[country], distance[country]}\n",
    "\n",
    "# for country in input:\n",
    "# \t\ttotal_dist += input[country][\"dist\"]\n",
    "\n",
    "# for country in input:\n",
    "# \toutput[country] = 0.75 * input[country][\"sent\"] + 0.25 * (1 - input[country][\"dist\"]/total_dist)\n",
    "# \tinput[country][\"\"]\n",
    "# # return output.\n",
    "\n",
    "# # score(all_scores[\"country\"][\"sent\"], all_scores[\"country\"][\"dist\"], total_distance)\n",
    "\n",
    "\n",
    "# def compute_rank(all_scores):\n",
    "# \t#def score(sent, dist, all_dist, w_sent, w_dist):\n",
    "# \t\t#return w_sent * sent + w_dist * (1 - dist/all_dist)\n",
    "\n",
    "# \treturn\n",
    "# '''\n",
    "# {\"cost\": 0, \"info\": {xxxxx}}\n",
    "# all_scores = {}\n",
    "# for country in [\"Malaysia\", \"Sing\", \"Thai\", \"Viet\"]:\n",
    "# \tall_scores[country] = {\"sent\": 0, \"dist\": 0}\n",
    "\n",
    "# Input=\n",
    "# {\n",
    "# \t\"Malaysia\": {\"sent\": 0, \"dist\": 0},\n",
    "# \t\"Sing\": {\"sent\": 0, \"dist\": 0},\n",
    "# \t\"Thai\": {\"sent\": 0, \"dist\": 0},\n",
    "# \t\"Viet\": {\"sent\": 0, \"dist\": 0},\n",
    "# }\n",
    "\n",
    "\n",
    "# Output=\n",
    "# {\n",
    "# \t\"Malaysia\": {\"sent\": 0, \"dist\": 0, \"score\": 0.5},\n",
    "# \t\"Sing\": {\"sent\": 0, \"dist\": 0, \"score\": 0.5},\n",
    "# \t\"Thai\": {\"sent\": 0, \"dist\": 0, \"score\": 0.5},\n",
    "# \t\"Viet\": {\"sent\": 0, \"dist\": 0, \"score\": 0.5},\n",
    "# }\n",
    "# '''"
   ]
  },
  {
   "cell_type": "code",
   "execution_count": 41,
   "metadata": {},
   "outputs": [
    {
     "ename": "ZeroDivisionError",
     "evalue": "division by zero",
     "output_type": "error",
     "traceback": [
      "\u001b[1;31m---------------------------------------------------------------------------\u001b[0m",
      "\u001b[1;31mZeroDivisionError\u001b[0m                         Traceback (most recent call last)",
      "\u001b[1;32mc:\\Users\\lebro\\OneDrive\\Desktop\\Year 2\\sem 2\\ADA\\Assignment - Copy - Copy\\Algo_Pblm_3.ipynb Cell 3'\u001b[0m in \u001b[0;36m<cell line: 36>\u001b[1;34m()\u001b[0m\n\u001b[0;32m     <a href='vscode-notebook-cell:/c%3A/Users/lebro/OneDrive/Desktop/Year%202/sem%202/ADA/Assignment%20-%20Copy%20-%20Copy/Algo_Pblm_3.ipynb#ch0000006?line=27'>28</a>\u001b[0m         \u001b[39m# print(cur_cost)\u001b[39;00m\n\u001b[0;32m     <a href='vscode-notebook-cell:/c%3A/Users/lebro/OneDrive/Desktop/Year%202/sem%202/ADA/Assignment%20-%20Copy%20-%20Copy/Algo_Pblm_3.ipynb#ch0000006?line=28'>29</a>\u001b[0m \n\u001b[0;32m     <a href='vscode-notebook-cell:/c%3A/Users/lebro/OneDrive/Desktop/Year%202/sem%202/ADA/Assignment%20-%20Copy%20-%20Copy/Algo_Pblm_3.ipynb#ch0000006?line=29'>30</a>\u001b[0m         \u001b[39m# input[country_code] = {\"cost\": cur_cost, \"posper\": posper, \"negper\": negper}\u001b[39;00m\n\u001b[0;32m     <a href='vscode-notebook-cell:/c%3A/Users/lebro/OneDrive/Desktop/Year%202/sem%202/ADA/Assignment%20-%20Copy%20-%20Copy/Algo_Pblm_3.ipynb#ch0000006?line=30'>31</a>\u001b[0m         \u001b[39m# input[country_code] = {\"cost\": cur_cost}\u001b[39;00m\n\u001b[0;32m     <a href='vscode-notebook-cell:/c%3A/Users/lebro/OneDrive/Desktop/Year%202/sem%202/ADA/Assignment%20-%20Copy%20-%20Copy/Algo_Pblm_3.ipynb#ch0000006?line=32'>33</a>\u001b[0m     \u001b[39mreturn\u001b[39;00m cur_cost\n\u001b[1;32m---> <a href='vscode-notebook-cell:/c%3A/Users/lebro/OneDrive/Desktop/Year%202/sem%202/ADA/Assignment%20-%20Copy%20-%20Copy/Algo_Pblm_3.ipynb#ch0000006?line=35'>36</a>\u001b[0m get_all_info(country_codes)\n",
      "\u001b[1;32mc:\\Users\\lebro\\OneDrive\\Desktop\\Year 2\\sem 2\\ADA\\Assignment - Copy - Copy\\Algo_Pblm_3.ipynb Cell 3'\u001b[0m in \u001b[0;36mget_all_info\u001b[1;34m(country_codes)\u001b[0m\n\u001b[0;32m     <a href='vscode-notebook-cell:/c%3A/Users/lebro/OneDrive/Desktop/Year%202/sem%202/ADA/Assignment%20-%20Copy%20-%20Copy/Algo_Pblm_3.ipynb#ch0000006?line=19'>20</a>\u001b[0m \u001b[39mfor\u001b[39;00m country_code \u001b[39min\u001b[39;00m country_codes:\n\u001b[0;32m     <a href='vscode-notebook-cell:/c%3A/Users/lebro/OneDrive/Desktop/Year%202/sem%202/ADA/Assignment%20-%20Copy%20-%20Copy/Algo_Pblm_3.ipynb#ch0000006?line=20'>21</a>\u001b[0m     \u001b[39m# Problem 1\u001b[39;00m\n\u001b[0;32m     <a href='vscode-notebook-cell:/c%3A/Users/lebro/OneDrive/Desktop/Year%202/sem%202/ADA/Assignment%20-%20Copy%20-%20Copy/Algo_Pblm_3.ipynb#ch0000006?line=21'>22</a>\u001b[0m     \u001b[39m# posper, negper = get_pos_neg_percentage(country_code)\u001b[39;00m\n\u001b[0;32m     <a href='vscode-notebook-cell:/c%3A/Users/lebro/OneDrive/Desktop/Year%202/sem%202/ADA/Assignment%20-%20Copy%20-%20Copy/Algo_Pblm_3.ipynb#ch0000006?line=22'>23</a>\u001b[0m     \n\u001b[0;32m     <a href='vscode-notebook-cell:/c%3A/Users/lebro/OneDrive/Desktop/Year%202/sem%202/ADA/Assignment%20-%20Copy%20-%20Copy/Algo_Pblm_3.ipynb#ch0000006?line=23'>24</a>\u001b[0m     \u001b[39m# Problem 2\u001b[39;00m\n\u001b[0;32m     <a href='vscode-notebook-cell:/c%3A/Users/lebro/OneDrive/Desktop/Year%202/sem%202/ADA/Assignment%20-%20Copy%20-%20Copy/Algo_Pblm_3.ipynb#ch0000006?line=24'>25</a>\u001b[0m     cur_distrib_center \u001b[39m=\u001b[39m DistributionCenter(country_code)\n\u001b[1;32m---> <a href='vscode-notebook-cell:/c%3A/Users/lebro/OneDrive/Desktop/Year%202/sem%202/ADA/Assignment%20-%20Copy%20-%20Copy/Algo_Pblm_3.ipynb#ch0000006?line=25'>26</a>\u001b[0m     cur_distrib_center\u001b[39m.\u001b[39;49msolve(method\u001b[39m=\u001b[39;49m\u001b[39m\"\u001b[39;49m\u001b[39mnearest-neighbour\u001b[39;49m\u001b[39m\"\u001b[39;49m)\n\u001b[0;32m     <a href='vscode-notebook-cell:/c%3A/Users/lebro/OneDrive/Desktop/Year%202/sem%202/ADA/Assignment%20-%20Copy%20-%20Copy/Algo_Pblm_3.ipynb#ch0000006?line=26'>27</a>\u001b[0m     cur_cost \u001b[39m=\u001b[39m cur_distrib_center\u001b[39m.\u001b[39minfo()[\u001b[39m\"\u001b[39m\u001b[39mcost\u001b[39m\u001b[39m\"\u001b[39m]\n\u001b[0;32m     <a href='vscode-notebook-cell:/c%3A/Users/lebro/OneDrive/Desktop/Year%202/sem%202/ADA/Assignment%20-%20Copy%20-%20Copy/Algo_Pblm_3.ipynb#ch0000006?line=27'>28</a>\u001b[0m     \u001b[39m# print(cur_cost)\u001b[39;00m\n\u001b[0;32m     <a href='vscode-notebook-cell:/c%3A/Users/lebro/OneDrive/Desktop/Year%202/sem%202/ADA/Assignment%20-%20Copy%20-%20Copy/Algo_Pblm_3.ipynb#ch0000006?line=28'>29</a>\u001b[0m \n\u001b[0;32m     <a href='vscode-notebook-cell:/c%3A/Users/lebro/OneDrive/Desktop/Year%202/sem%202/ADA/Assignment%20-%20Copy%20-%20Copy/Algo_Pblm_3.ipynb#ch0000006?line=29'>30</a>\u001b[0m     \u001b[39m# input[country_code] = {\"cost\": cur_cost, \"posper\": posper, \"negper\": negper}\u001b[39;00m\n\u001b[0;32m     <a href='vscode-notebook-cell:/c%3A/Users/lebro/OneDrive/Desktop/Year%202/sem%202/ADA/Assignment%20-%20Copy%20-%20Copy/Algo_Pblm_3.ipynb#ch0000006?line=30'>31</a>\u001b[0m     \u001b[39m# input[country_code] = {\"cost\": cur_cost}\u001b[39;00m\n",
      "File \u001b[1;32mc:\\Users\\lebro\\OneDrive\\Desktop\\Year 2\\sem 2\\ADA\\Assignment - Copy - Copy\\distribution_center.py:29\u001b[0m, in \u001b[0;36msolve\u001b[1;34m(self, method)\u001b[0m\n\u001b[0;32m     28\u001b[0m \u001b[39mdef\u001b[39;00m \u001b[39msolve\u001b[39m(\u001b[39mself\u001b[39m, method\u001b[39m=\u001b[39m\u001b[39m\"\u001b[39m\u001b[39mheld-karp\u001b[39m\u001b[39m\"\u001b[39m):\n\u001b[1;32m---> 29\u001b[0m     distance_mat \u001b[39m=\u001b[39m \u001b[39mself\u001b[39m\u001b[39m.\u001b[39m__build_distance_matrix()\n\u001b[0;32m     30\u001b[0m     \u001b[39mself\u001b[39m\u001b[39m.\u001b[39mcenter_idx \u001b[39m=\u001b[39m \u001b[39mself\u001b[39m\u001b[39m.\u001b[39m__find_center()\n\u001b[0;32m     31\u001b[0m     geodesic_cost, path \u001b[39m=\u001b[39m \u001b[39mself\u001b[39m\u001b[39m.\u001b[39m__solve_tsp(distance_mat, method)\n",
      "File \u001b[1;32mc:\\Users\\lebro\\OneDrive\\Desktop\\Year 2\\sem 2\\ADA\\Assignment - Copy - Copy\\distribution_center.py:79\u001b[0m, in \u001b[0;36m__find_center\u001b[1;34m(self)\u001b[0m\n\u001b[0;32m     78\u001b[0m \u001b[39mdef\u001b[39;00m \u001b[39m__find_center\u001b[39m(\u001b[39mself\u001b[39m):\n\u001b[1;32m---> 79\u001b[0m     coordinates \u001b[39m=\u001b[39m \u001b[39mlist\u001b[39m(\u001b[39mself\u001b[39m\u001b[39m.\u001b[39mlocal_store_df[[\u001b[39m\"\u001b[39m\u001b[39mlatitude\u001b[39m\u001b[39m\"\u001b[39m, \u001b[39m\"\u001b[39m\u001b[39mlongitude\u001b[39m\u001b[39m\"\u001b[39m]]\u001b[39m.\u001b[39mto_records(index\u001b[39m=\u001b[39m\u001b[39mFalse\u001b[39;00m))\n\u001b[0;32m     80\u001b[0m     center_idx \u001b[39m=\u001b[39m nearest_center(coordinates\u001b[39m=\u001b[39mcoordinates)\n\u001b[0;32m     82\u001b[0m     \u001b[39mreturn\u001b[39;00m center_idx\n",
      "File \u001b[1;32mc:\\Users\\lebro\\OneDrive\\Desktop\\Year 2\\sem 2\\ADA\\Assignment - Copy - Copy\\algorithms.py:107\u001b[0m, in \u001b[0;36mnearest_center\u001b[1;34m(coordinates)\u001b[0m\n\u001b[0;32m    105\u001b[0m     center[\u001b[39m0\u001b[39m] \u001b[39m+\u001b[39m\u001b[39m=\u001b[39m coordinate[\u001b[39m0\u001b[39m]\n\u001b[0;32m    106\u001b[0m     center[\u001b[39m1\u001b[39m] \u001b[39m+\u001b[39m\u001b[39m=\u001b[39m coordinate[\u001b[39m1\u001b[39m]\n\u001b[1;32m--> 107\u001b[0m center[\u001b[39m0\u001b[39m] \u001b[39m/\u001b[39m\u001b[39m=\u001b[39m n\n\u001b[0;32m    108\u001b[0m center[\u001b[39m1\u001b[39m] \u001b[39m/\u001b[39m\u001b[39m=\u001b[39m n\n\u001b[0;32m    110\u001b[0m minDiff \u001b[39m=\u001b[39m \u001b[39m-\u001b[39m\u001b[39m1\u001b[39m\n",
      "\u001b[1;31mZeroDivisionError\u001b[0m: division by zero"
     ]
    }
   ],
   "source": [
    "country_codes = [\"USA\", \"Thailand\", \"NZ\", \"HK\", \"DB\"]\n",
    "# for every country => delivery_cost, posper, negper\n",
    "# abc = {\n",
    "#     \"USA\": {\"cost\": 0, \"posper\": 0, \"negper\": 0},\n",
    "#     \"Thailand\": {\"cost\": 0, \"posper\": 0, \"negper\": 0},\n",
    "#     \"NZ\": {\"cost\": 0, \"posper\": 0, \"negper\": 0},\n",
    "#     \"HK\": {\"cost\": 0, \"posper\": 0, \"negper\": 0},\n",
    "#     \"DB\": {\"cost\": 0, \"posper\": 0, \"negper\": 0}\n",
    "# }\n",
    "\n",
    "def get_all_info(country_codes):\n",
    "    input = {\n",
    "        \"USA\": {\"cost\": 50},\n",
    "        \"Thailand\": {\"cost\": 50},\n",
    "        \"NZ\": {\"cost\": 50},\n",
    "        \"HK\": {\"cost\": 50},\n",
    "        \"DB\": {\"cost\": 50}\n",
    "    }\n",
    "\n",
    "    for country_code in country_codes:\n",
    "        # Problem 1\n",
    "        # posper, negper = get_pos_neg_percentage(country_code)\n",
    "        \n",
    "        # Problem 2\n",
    "        cur_distrib_center = DistributionCenter(country_code)\n",
    "        cur_distrib_center.solve(method=\"nearest-neighbour\")\n",
    "        cur_cost = cur_distrib_center.info()[\"cost\"]\n",
    "        # print(cur_cost)\n",
    "\n",
    "        # input[country_code] = {\"cost\": cur_cost, \"posper\": posper, \"negper\": negper}\n",
    "        input[country_code][\"cost\"] = {\"cost\": cur_cost}\n",
    "    \n",
    "    return input\n",
    "\n",
    "\n",
    "get_all_info(country_codes)"
   ]
  },
  {
   "cell_type": "code",
   "execution_count": null,
   "metadata": {},
   "outputs": [],
   "source": []
  }
 ],
 "metadata": {
  "kernelspec": {
   "display_name": "Python 3.9.0 ('moonbucks_env')",
   "language": "python",
   "name": "python3"
  },
  "language_info": {
   "codemirror_mode": {
    "name": "ipython",
    "version": 3
   },
   "file_extension": ".py",
   "mimetype": "text/x-python",
   "name": "python",
   "nbconvert_exporter": "python",
   "pygments_lexer": "ipython3",
   "version": "3.9.0"
  },
  "orig_nbformat": 4,
  "vscode": {
   "interpreter": {
    "hash": "fb71b31682535fc53402c3c12207b026517ff5d46d3560c79231c1b8ae0370aa"
   }
  }
 },
 "nbformat": 4,
 "nbformat_minor": 2
}
