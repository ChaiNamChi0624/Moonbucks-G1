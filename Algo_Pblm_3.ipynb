{
 "cells": [
  {
   "cell_type": "code",
   "execution_count": 1,
   "metadata": {},
   "outputs": [],
   "source": [
    "def ranking (sentiment, distance, total_distance):\n",
    "\n",
    "    pos_ranking = sentiment * 0.75\n",
    "    neg_ranking = 1 - pos_ranking\n",
    "    prob_distance = (distance / total_distance) * 0.25\n",
    "\n",
    "    result = neg_ranking * prob_distance\n",
    "\n",
    "    return result"
   ]
  },
  {
   "cell_type": "code",
   "execution_count": 2,
   "metadata": {},
   "outputs": [
    {
     "data": {
      "text/plain": [
       "0.020312499999999997"
      ]
     },
     "execution_count": 2,
     "metadata": {},
     "output_type": "execute_result"
    }
   ],
   "source": [
    "ranking(0.9, 50, 200)"
   ]
  },
  {
   "cell_type": "code",
   "execution_count": 3,
   "metadata": {},
   "outputs": [
    {
     "ename": "SyntaxError",
     "evalue": "invalid syntax (3540717561.py, line 1)",
     "output_type": "error",
     "traceback": [
      "\u001b[1;36m  Input \u001b[1;32mIn [3]\u001b[1;36m\u001b[0m\n\u001b[1;33m    [Thailand : 0.25]\u001b[0m\n\u001b[1;37m              ^\u001b[0m\n\u001b[1;31mSyntaxError\u001b[0m\u001b[1;31m:\u001b[0m invalid syntax\n"
     ]
    }
   ],
   "source": [
    "[Thailand : 0.25]"
   ]
  },
  {
   "cell_type": "code",
   "execution_count": 9,
   "metadata": {},
   "outputs": [
    {
     "ename": "SyntaxError",
     "evalue": "invalid syntax (586618668.py, line 24)",
     "output_type": "error",
     "traceback": [
      "\u001b[1;36m  Input \u001b[1;32mIn [9]\u001b[1;36m\u001b[0m\n\u001b[1;33m    Input=\u001b[0m\n\u001b[1;37m          ^\u001b[0m\n\u001b[1;31mSyntaxError\u001b[0m\u001b[1;31m:\u001b[0m invalid syntax\n"
     ]
    }
   ],
   "source": [
    "score(all_scores[\"country\"][\"sent\"], all_scores[\"country\"][\"dist\"], total_distance)\n",
    "\n",
    "sent = pos / (pos + neg)\n",
    "\n",
    "def compute_rank(all_scores):\n",
    "\tdef score(sent, dist, all_dist, w_sent, w_dist):\n",
    "\t\treturn 0.75 * sent + 0.25 * (1 - dist/all_dist)\n",
    "\n",
    "\ttotal_dist = 0\n",
    "\tscores = {}\n",
    "\tfor country in all_scores:\n",
    "\t\ttotal_dist += all_scores[country][\"dist\"]\n",
    "\tfor country in all_scores:\n",
    "\t\tscores[country] = 0.75 * all_scores[country][\"sent\"] + 0.25 * (1 - all_scores[country][\"sent\"]/total_dist)\n",
    "\t\t# scores[country] = score(all_scores[country][\"sent\"], all_scores[country][\"sent\"], total_dist)\n",
    "\t\tall_scores[country][\"\"]\n",
    "\treturn scores\n",
    "\n",
    "{\"cost\": 0, \"info\": {xxxxx}}\n",
    "all_scores = {}\n",
    "for country in [\"Malaysia\", \"Sing\", \"Thai\", \"Viet\"]:\n",
    "\tall_scores[country] = {\"sent\": 0, \"dist\": 0}\n",
    "\n",
    "Input=\n",
    "{\n",
    "\t\"Malaysia\": {\"sent\": 0, \"dist\": 0},\n",
    "\t\"Sing\": {\"sent\": 0, \"dist\": 0},\n",
    "\t\"Thai\": {\"sent\": 0, \"dist\": 0},\n",
    "\t\"Viet\": {\"sent\": 0, \"dist\": 0},\n",
    "}\n",
    "\n",
    "\n",
    "Output=\n",
    "{\n",
    "\t\"Malaysia\": {\"sent\": 0, \"dist\": 0, \"score\": 0.5},\n",
    "\t\"Sing\": {\"sent\": 0, \"dist\": 0, \"score\": 0.5},\n",
    "\t\"Thai\": {\"sent\": 0, \"dist\": 0, \"score\": 0.5},\n",
    "\t\"Viet\": {\"sent\": 0, \"dist\": 0, \"score\": 0.5},\n",
    "}"
   ]
  }
 ],
 "metadata": {
  "kernelspec": {
   "display_name": "Python 3.10.4 64-bit",
   "language": "python",
   "name": "python3"
  },
  "language_info": {
   "codemirror_mode": {
    "name": "ipython",
    "version": 3
   },
   "file_extension": ".py",
   "mimetype": "text/x-python",
   "name": "python",
   "nbconvert_exporter": "python",
   "pygments_lexer": "ipython3",
   "version": "3.10.4"
  },
  "orig_nbformat": 4,
  "vscode": {
   "interpreter": {
    "hash": "3a5118fa30ac9eaa2179e6bce3a5517220082e65e7950c107631f8a2533fcc9c"
   }
  }
 },
 "nbformat": 4,
 "nbformat_minor": 2
}
