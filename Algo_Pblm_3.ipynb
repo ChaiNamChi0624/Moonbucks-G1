{
 "cells": [
  {
   "cell_type": "markdown",
   "metadata": {},
   "source": [
    "**Problem 3: Solve P1 and P2 at the same time**"
   ]
  },
  {
   "cell_type": "code",
   "execution_count": 7,
   "metadata": {},
   "outputs": [],
   "source": [
    "from problem3 import get_all_info, compute_all_scores, plot_ranking"
   ]
  },
  {
   "cell_type": "code",
   "execution_count": 8,
   "metadata": {},
   "outputs": [],
   "source": [
    "country_codes = [\"US\", \"TH\", \"NZ\", \"CN\", \"AE\"]"
   ]
  },
  {
   "cell_type": "markdown",
   "metadata": {},
   "source": [
    "# 1. Solve P1 and P2 for every country"
   ]
  },
  {
   "cell_type": "code",
   "execution_count": 9,
   "metadata": {},
   "outputs": [
    {
     "name": "stdout",
     "output_type": "stream",
     "text": [
      "[US] Solving distribution center took 7.82 s\n",
      "[US] Sentiment analysis took 0.13 s\n",
      "[TH] Solving distribution center took 2.45 s\n",
      "[TH] Sentiment analysis took 0.13 s\n",
      "[NZ] Solving distribution center took 0.85 s\n",
      "[NZ] Sentiment analysis took 0.05 s\n",
      "[CN] Solving distribution center took 3.03 s\n",
      "[CN] Sentiment analysis took 0.11 s\n",
      "[AE] Solving distribution center took 1.69 s\n",
      "[AE] Sentiment analysis took 0.11 s\n",
      "Total elapsed time : 16.36 s\n"
     ]
    }
   ],
   "source": [
    "all_info = get_all_info(country_codes=country_codes)"
   ]
  },
  {
   "cell_type": "code",
   "execution_count": 10,
   "metadata": {},
   "outputs": [
    {
     "data": {
      "text/plain": [
       "{'US': {'dist': 24122.150358000006, 'sent': 0.31155778894472363},\n",
       " 'TH': {'dist': 3662.1987840368993, 'sent': 0.532608695652174},\n",
       " 'NZ': {'dist': 4555.222694000001, 'sent': 0.3559322033898305},\n",
       " 'CN': {'dist': 8301.003385, 'sent': 0.35074626865671643},\n",
       " 'AE': {'dist': 736.1599720000002, 'sent': 0.9393939393939393}}"
      ]
     },
     "execution_count": 10,
     "metadata": {},
     "output_type": "execute_result"
    }
   ],
   "source": [
    "all_info"
   ]
  },
  {
   "cell_type": "markdown",
   "metadata": {},
   "source": [
    "# 2. Compute final score"
   ]
  },
  {
   "cell_type": "code",
   "execution_count": 11,
   "metadata": {},
   "outputs": [],
   "source": [
    "final_ranking = compute_all_scores(all_info, country_codes)"
   ]
  },
  {
   "cell_type": "code",
   "execution_count": 13,
   "metadata": {},
   "outputs": [
    {
     "data": {
      "image/png": "[encoded data removed]",
      "text/plain": [
       "<Figure size 432x288 with 1 Axes>"
      ]
     },
     "metadata": {
      "needs_background": "light"
     },
     "output_type": "display_data"
    }
   ],
   "source": [
    "plot_ranking(final_ranking)"
   ]
  },
  {
   "cell_type": "code",
   "execution_count": 12,
   "metadata": {},
   "outputs": [
    {
     "data": {
      "text/plain": [
       "OrderedDict([('US',\n",
       "              {'dist': 24122.150358000006,\n",
       "               'sent': 0.31155778894472363,\n",
       "               'result': 0.3379212797094401}),\n",
       "             ('CN',\n",
       "              {'dist': 8301.003385,\n",
       "               'sent': 0.35074626865671643,\n",
       "               'result': 0.46290468475261737}),\n",
       "             ('NZ',\n",
       "              {'dist': 4555.222694000001,\n",
       "               'sent': 0.3559322033898305,\n",
       "               'result': 0.48942630260781245}),\n",
       "             ('TH',\n",
       "              {'dist': 3662.1987840368993,\n",
       "               'sent': 0.532608695652174,\n",
       "               'result': 0.6273293603829272}),\n",
       "             ('AE',\n",
       "              {'dist': 736.1599720000002,\n",
       "               'sent': 0.9393939393939393,\n",
       "               'result': 0.9500975445752408})])"
      ]
     },
     "execution_count": 12,
     "metadata": {},
     "output_type": "execute_result"
    }
   ],
   "source": [
    "final_ranking"
   ]
  },
  {
   "cell_type": "code",
   "execution_count": null,
   "metadata": {},
   "outputs": [],
   "source": []
  }
 ],
 "metadata": {
  "kernelspec": {
   "display_name": "Python 3 (ipykernel)",
   "language": "python",
   "name": "python3"
  },
  "language_info": {
   "codemirror_mode": {
    "name": "ipython",
    "version": 3
   },
   "file_extension": ".py",
   "mimetype": "text/x-python",
   "name": "python",
   "nbconvert_exporter": "python",
   "pygments_lexer": "ipython3",
   "version": "3.9.0"
  },
  "vscode": {
   "interpreter": {
    "hash": "fb71b31682535fc53402c3c12207b026517ff5d46d3560c79231c1b8ae0370aa"
   }
  }
 },
 "nbformat": 4,
 "nbformat_minor": 2
}
