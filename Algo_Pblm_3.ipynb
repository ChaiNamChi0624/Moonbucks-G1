{
 "cells": [
  {
   "cell_type": "code",
   "execution_count": null,
   "metadata": {},
   "outputs": [],
   "source": [
    "from distribution_center import DistributionCenter\n",
    "from util import *\n",
    "from sentiment_analysis import sentimentAnalysis"
   ]
  },
  {
   "cell_type": "code",
   "execution_count": null,
   "metadata": {},
   "outputs": [],
   "source": [
    "country_codes = [\"US\", \"TH\", \"NZ\", \"CN\", \"AE\"]\n",
    "# country_codes = [\"TH\", \"NZ\", \"CN\", \"AE\"]\n",
    "\n",
    "def get_all_info(country_codes):\n",
    "    input = {\n",
    "        \"US\": {\"result\": 0, \"sent\": 0, \"dist\": 0},\n",
    "        \"TH\": {\"result\": 0, \"sent\": 0, \"dist\": 0},\n",
    "        \"NZ\": {\"result\": 0, \"sent\": 0, \"dist\": 0},\n",
    "        \"CN\": {\"result\": 0, \"sent\": 0, \"dist\": 0},\n",
    "        \"AE\": {\"result\": 0, \"sent\": 0, \"dist\": 0}\n",
    "    }\n",
    "    total_dist = 0\n",
    "\n",
    "    for country_code in country_codes:\n",
    "        cur_distrib_center = DistributionCenter(country_code)\n",
    "        cur_distrib_center.solve(method=\"nearest-neighbour\")\n",
    "        cur_cost = cur_distrib_center.info()[\"cost\"]\n",
    "        total_dist += cur_cost\n",
    "    \n",
    "    for country_code in country_codes:\n",
    "        # Problem 1\n",
    "        sentiment = sentimentAnalysis(country_code)\n",
    "        posper = sentiment[\"pos_per\"]\n",
    "        negper = sentiment[\"neg_per\"]\n",
    "        sent = posper / (posper + negper)\n",
    "        input[country_code][\"sent\"] = sent\n",
    "        \n",
    "        # Problem 2\n",
    "        cur_distrib_center = DistributionCenter(country_code)\n",
    "        cur_distrib_center.solve(method=\"nearest-neighbour\")\n",
    "        cur_cost = cur_distrib_center.info()[\"cost\"]\n",
    "        input[country_code][\"dist\"] = cur_cost\n",
    "\n",
    "        # Calculate result\n",
    "        result = 0.75 * input[country_code][\"sent\"] + 0.25 * (1 - input[country_code][\"dist\"] / total_dist)\n",
    "        input[country_code][\"result\"] = result\n",
    "\n",
    "    # Sorting\n",
    "    dlist = sorted(input.items(), key = lambda x: x[1]['result'])\n",
    "    sortd = dict(dlist)\n",
    "    return(sortd)"
   ]
  },
  {
   "cell_type": "code",
   "execution_count": null,
   "metadata": {},
   "outputs": [],
   "source": [
    "get_all_info(country_codes)"
   ]
  },
  {
   "cell_type": "code",
   "execution_count": null,
   "metadata": {},
   "outputs": [],
   "source": []
  },
  {
   "cell_type": "code",
   "execution_count": 1,
   "metadata": {},
   "outputs": [],
   "source": [
    "from problem3 import get_all_info, compute_all_scores\n",
    "\n",
    "country_codes = [\"US\", \"TH\", \"NZ\", \"CN\", \"AE\"]"
   ]
  },
  {
   "cell_type": "code",
   "execution_count": 2,
   "metadata": {},
   "outputs": [
    {
     "name": "stdout",
     "output_type": "stream",
     "text": [
      "[US] Solving distribution center took 8.33 s\n",
      "[US] Sentiment analysis took 37.31 s\n",
      "[TH] Solving distribution center took 4.76 s\n",
      "[TH] Sentiment analysis took 33.04 s\n",
      "[NZ] Solving distribution center took 2.61 s\n",
      "[NZ] Sentiment analysis took 31.31 s\n",
      "[CN] Solving distribution center took 6.85 s\n",
      "[CN] Sentiment analysis took 29.31 s\n",
      "[AE] Solving distribution center took 2.66 s\n",
      "[AE] Sentiment analysis took 22.81 s\n",
      "Total elapsed time : 178.98 s\n"
     ]
    }
   ],
   "source": [
    "all_info = get_all_info(country_codes=country_codes)"
   ]
  },
  {
   "cell_type": "code",
   "execution_count": 3,
   "metadata": {},
   "outputs": [
    {
     "data": {
      "text/plain": [
       "{'US': {'dist': 41152.305158115196, 'sent': 0.31155778894472363},\n",
       " 'TH': {'dist': 3363.825882, 'sent': 0.532608695652174},\n",
       " 'NZ': {'dist': 4555.216694000002, 'sent': 0.3559322033898305},\n",
       " 'CN': {'dist': 6996.511809, 'sent': 0.35074626865671643},\n",
       " 'AE': {'dist': 565.838111, 'sent': 0.9393939393939393}}"
      ]
     },
     "execution_count": 3,
     "metadata": {},
     "output_type": "execute_result"
    }
   ],
   "source": [
    "all_info"
   ]
  },
  {
   "cell_type": "code",
   "execution_count": 4,
   "metadata": {},
   "outputs": [
    {
     "data": {
      "text/plain": [
       "OrderedDict([('US',\n",
       "              {'dist': 41152.305158115196,\n",
       "               'sent': 0.31155778894472363,\n",
       "               'result': 0.3020083633620426}),\n",
       "             ('CN',\n",
       "              {'dist': 6996.511809,\n",
       "               'sent': 0.35074626865671643,\n",
       "               'result': 0.4821747685868205}),\n",
       "             ('NZ',\n",
       "              {'dist': 4555.216694000002,\n",
       "               'sent': 0.3559322033898305,\n",
       "               'result': 0.49684090920542645}),\n",
       "             ('TH',\n",
       "              {'dist': 3363.825882,\n",
       "               'sent': 0.532608695652174,\n",
       "               'result': 0.634607474169677}),\n",
       "             ('AE',\n",
       "              {'dist': 565.838111,\n",
       "               'sent': 0.9393939393939393,\n",
       "               'result': 0.9520476567040712})])"
      ]
     },
     "execution_count": 4,
     "metadata": {},
     "output_type": "execute_result"
    }
   ],
   "source": [
    "compute_all_scores(all_info, country_codes)"
   ]
  },
  {
   "cell_type": "code",
   "execution_count": null,
   "metadata": {},
   "outputs": [],
   "source": []
  }
 ],
 "metadata": {
  "kernelspec": {
   "display_name": "Python 3 (ipykernel)",
   "language": "python",
   "name": "python3"
  },
  "language_info": {
   "codemirror_mode": {
    "name": "ipython",
    "version": 3
   },
   "file_extension": ".py",
   "mimetype": "text/x-python",
   "name": "python",
   "nbconvert_exporter": "python",
   "pygments_lexer": "ipython3",
   "version": "3.9.0"
  },
  "vscode": {
   "interpreter": {
    "hash": "fb71b31682535fc53402c3c12207b026517ff5d46d3560c79231c1b8ae0370aa"
   }
  }
 },
 "nbformat": 4,
 "nbformat_minor": 2
}
