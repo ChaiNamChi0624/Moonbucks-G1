{
 "cells": [
  {
   "cell_type": "code",
   "execution_count": 63,
   "metadata": {},
   "outputs": [],
   "source": [
    "from distribution_center import DistributionCenter\n",
    "\n",
    "# from ipynb.fs.full.Algo_Pblm_1 import SentimentAnalysis\n",
    "# import import_ipynb\n",
    "# import Algo_Pblm_1\n",
    "from util import *"
   ]
  },
  {
   "cell_type": "code",
   "execution_count": 24,
   "metadata": {},
   "outputs": [
    {
     "name": "stdout",
     "output_type": "stream",
     "text": [
      "None\n"
     ]
    }
   ],
   "source": [
    "\n",
    "\n",
    "#print(countryName)\n",
    "# sent = [pos2[i] / (pos2[i] + neg2[i]) for i in range(5)]\n",
    "# print(f\"Sentiment score: {sent}\")\n",
    "# all_scores = {}\n",
    "# output = {}\n",
    "# total_dist = 0\n",
    "# for country in countryName:\n",
    "# \tinput[country] = {sent[country], distance[country]}\n",
    "\n",
    "# for country in input:\n",
    "# \t\ttotal_dist += input[country][\"dist\"]\n",
    "\n",
    "# for country in input:\n",
    "# \toutput[country] = 0.75 * input[country][\"sent\"] + 0.25 * (1 - input[country][\"dist\"]/total_dist)\n",
    "# \tinput[country][\"\"]\n",
    "# # return output.\n",
    "\n",
    "# # score(all_scores[\"country\"][\"sent\"], all_scores[\"country\"][\"dist\"], total_distance)\n",
    "\n",
    "\n",
    "# def compute_rank(all_scores):\n",
    "# \t#def score(sent, dist, all_dist, w_sent, w_dist):\n",
    "# \t\t#return w_sent * sent + w_dist * (1 - dist/all_dist)\n",
    "\n",
    "# \treturn\n",
    "# '''\n",
    "# {\"cost\": 0, \"info\": {xxxxx}}\n",
    "# all_scores = {}\n",
    "# for country in [\"Malaysia\", \"Sing\", \"Thai\", \"Viet\"]:\n",
    "# \tall_scores[country] = {\"sent\": 0, \"dist\": 0}\n",
    "\n",
    "# Input=\n",
    "# {\n",
    "# \t\"Malaysia\": {\"sent\": 0, \"dist\": 0},\n",
    "# \t\"Sing\": {\"sent\": 0, \"dist\": 0},\n",
    "# \t\"Thai\": {\"sent\": 0, \"dist\": 0},\n",
    "# \t\"Viet\": {\"sent\": 0, \"dist\": 0},\n",
    "# }\n",
    "\n",
    "\n",
    "# Output=\n",
    "# {\n",
    "# \t\"Malaysia\": {\"sent\": 0, \"dist\": 0, \"score\": 0.5},\n",
    "# \t\"Sing\": {\"sent\": 0, \"dist\": 0, \"score\": 0.5},\n",
    "# \t\"Thai\": {\"sent\": 0, \"dist\": 0, \"score\": 0.5},\n",
    "# \t\"Viet\": {\"sent\": 0, \"dist\": 0, \"score\": 0.5},\n",
    "# }\n",
    "# '''"
   ]
  },
  {
   "cell_type": "code",
   "execution_count": 59,
   "metadata": {},
   "outputs": [
    {
     "name": "stdout",
     "output_type": "stream",
     "text": [
      "TH\n"
     ]
    },
    {
     "name": "stderr",
     "output_type": "stream",
     "text": [
      "c:\\Users\\lebro\\OneDrive\\Desktop\\Year 2\\sem 2\\ADA\\Assignment - Copy - Copy\\distribution_center.py:119: UserWarning: No route found, use geodesic distance\n",
      "  warnings.warn(\"No route found, use geodesic distance\")\n"
     ]
    },
    {
     "name": "stdout",
     "output_type": "stream",
     "text": [
      "NZ\n",
      "AE\n"
     ]
    },
    {
     "data": {
      "text/plain": [
       "{'TH': {'dist': 6424.202160933024},\n",
       " 'NZ': {'dist': 4555.216694000002},\n",
       " 'AE': {'dist': 1049.026492}}"
      ]
     },
     "execution_count": 59,
     "metadata": {},
     "output_type": "execute_result"
    }
   ],
   "source": [
    "country_codes = [\"TH\", \"NZ\", \"AE\"]\n",
    "# for every country => delivery_cost, posper, negper\n",
    "# abc = {\n",
    "#     \"USA\": {\"cost\": 0, \"posper\": 0, \"negper\": 0},\n",
    "#     \"Thailand\": {\"cost\": 0, \"posper\": 0, \"negper\": 0},\n",
    "#     \"NZ\": {\"cost\": 0, \"posper\": 0, \"negper\": 0},\n",
    "#     \"HK\": {\"cost\": 0, \"posper\": 0, \"negper\": 0},\n",
    "#     \"DB\": {\"cost\": 0, \"posper\": 0, \"negper\": 0}\n",
    "# }\n",
    "\n",
    "def get_all_info(country_codes):\n",
    "    input = {}\n",
    "\n",
    "    for country_code in country_codes:\n",
    "        # Problem 1\n",
    "        # posper, negper = get_pos_neg_percentage(country_code)\n",
    "        posper, negper = get pos_neg_percentage(country_code)\n",
    "        sent = posper / (posper + negper)\n",
    "        input[country_code] = {\"sent\": sent}\n",
    "        \n",
    "        # Problem 2\n",
    "        print(country_code)\n",
    "        cur_distrib_center = DistributionCenter(country_code)\n",
    "        cur_distrib_center.solve(method=\"nearest-neighbour\")\n",
    "        cur_cost = cur_distrib_center.info()[\"cost\"]\n",
    "        total_dist += cur_cost\n",
    "        input[country_code] = {\"dist\": cur_cost}\n",
    "\n",
    "        # Calculate result\n",
    "        result = 0.75 * input[country_code][\"sent\"] + 0.25 * (1 - input[country_code][\"dist\"] / total_dist)\n",
    "        input[country_code] = {\"result\": result}\n",
    "\n",
    "        # Sorting\n",
    "        dlist = sorted(input[country_code].items(), key=lambda x:x[1])\n",
    "        sortd = dict(dlist)\n",
    "        print(sortd)\n",
    "        \n",
    "    return sorted\n",
    "\n",
    "get_all_info(country_codes)"
   ]
  },
  {
   "cell_type": "code",
   "execution_count": 54,
   "metadata": {},
   "outputs": [
    {
     "data": {
      "text/plain": [
       "{'CN': {'name': 'China', 'n_stores': 454},\n",
       " 'AE': {'name': 'United Arab Emirates', 'n_stores': 68},\n",
       " 'AR': {'name': 'Argentina', 'n_stores': 32},\n",
       " 'AT': {'name': 'Austria', 'n_stores': 9},\n",
       " 'BE': {'name': 'Belgium', 'n_stores': 3},\n",
       " 'BG': {'name': 'Bulgaria', 'n_stores': 4},\n",
       " 'BH': {'name': 'Bahrain', 'n_stores': 10},\n",
       " 'BS': {'name': 'Bahamas', 'n_stores': 6},\n",
       " 'CA': {'name': 'Canada', 'n_stores': 898},\n",
       " 'CH': {'name': 'Switzerland', 'n_stores': 40},\n",
       " 'CL': {'name': 'Chile', 'n_stores': 29},\n",
       " 'CY': {'name': 'Cyprus', 'n_stores': 9},\n",
       " 'CZ': {'name': 'Czechia', 'n_stores': 12},\n",
       " 'DE': {'name': 'Germany', 'n_stores': 1},\n",
       " 'DK': {'name': 'Denmark', 'n_stores': 3},\n",
       " 'EG': {'name': 'Egypt', 'n_stores': 10},\n",
       " 'ES': {'name': 'Spain', 'n_stores': 60},\n",
       " 'GB': {'name': 'United Kingdom', 'n_stores': 364},\n",
       " 'GR': {'name': 'Greece', 'n_stores': 25},\n",
       " 'ID': {'name': 'Indonesia', 'n_stores': 81},\n",
       " 'IE': {'name': 'Ireland', 'n_stores': 3},\n",
       " 'JO': {'name': 'Jordan', 'n_stores': 7},\n",
       " 'JP': {'name': 'Japan', 'n_stores': 790},\n",
       " 'KR': {'name': 'Korea, Republic of', 'n_stores': 256},\n",
       " 'KW': {'name': 'Kuwait', 'n_stores': 54},\n",
       " 'LB': {'name': 'Lebanon', 'n_stores': 10},\n",
       " 'MX': {'name': 'Mexico', 'n_stores': 288},\n",
       " 'MY': {'name': 'Malaysia', 'n_stores': 89},\n",
       " 'NL': {'name': 'Netherlands', 'n_stores': 8},\n",
       " 'NZ': {'name': 'New Zealand', 'n_stores': 22},\n",
       " 'OM': {'name': 'Oman', 'n_stores': 6},\n",
       " 'PE': {'name': 'Peru', 'n_stores': 35},\n",
       " 'PH': {'name': 'Philippines', 'n_stores': 152},\n",
       " 'PL': {'name': 'Poland', 'n_stores': 10},\n",
       " 'PT': {'name': 'Portugal', 'n_stores': 7},\n",
       " 'QA': {'name': 'Qatar', 'n_stores': 7},\n",
       " 'RO': {'name': 'Romania', 'n_stores': 7},\n",
       " 'RU': {'name': 'Russian Federation', 'n_stores': 37},\n",
       " 'SA': {'name': 'Saudi Arabia', 'n_stores': 40},\n",
       " 'SG': {'name': 'Singapore', 'n_stores': 49},\n",
       " 'TH': {'name': 'Thailand', 'n_stores': 121},\n",
       " 'TR': {'name': 'Turkey', 'n_stores': 108},\n",
       " 'TW': {'name': 'Taiwan, Province of China', 'n_stores': 196},\n",
       " 'US': {'name': 'United States', 'n_stores': 9145},\n",
       " 'AW': {'name': 'Aruba', 'n_stores': 2},\n",
       " 'HU': {'name': 'Hungary', 'n_stores': 3},\n",
       " 'FR': {'name': 'France', 'n_stores': 39},\n",
       " 'SV': {'name': 'El Salvador', 'n_stores': 2},\n",
       " 'BR': {'name': 'Brazil', 'n_stores': 4},\n",
       " 'GT': {'name': 'Guatemala', 'n_stores': 1},\n",
       " 'SE': {'name': 'Sweden', 'n_stores': 2}}"
      ]
     },
     "execution_count": 54,
     "metadata": {},
     "output_type": "execute_result"
    }
   ],
   "source": [
    "get_country_dict(load_dataset()) "
   ]
  },
  {
   "cell_type": "code",
   "execution_count": 65,
   "metadata": {},
   "outputs": [
    {
     "name": "stdout",
     "output_type": "stream",
     "text": [
      "{'Usa': 10, 'Dubai': 15, 'Hong Kong': 20}\n",
      "{'Usa': 10, 'Dubai': 15, 'Hong Kong': 20, 'NZ': 25}\n",
      "{'Usa': 10, 'Dubai': 15, 'Hong Kong': 20, 'NZ': 25}\n"
     ]
    }
   ],
   "source": [
    "# initial dictionary\n",
    "d = {}\n",
    "country = ['Usa', 'Dubai', 'Hong Kong']\n",
    "sent = [10, 15, 20]\n",
    "for i in range(3):\n",
    "    d[country[i]] = sent[i]\n",
    "print(d)\n",
    "\n",
    "# add new variable & value\n",
    "key = \"NZ\"\n",
    "value = 25\n",
    "d[key] = value\n",
    "print(d)\n",
    "\n",
    "# sort\n",
    "dlist = sorted(d.items(), key=lambda x:x[1])\n",
    "sortd = dict(dlist)\n",
    "print(sortd)"
   ]
  },
  {
   "cell_type": "code",
   "execution_count": null,
   "metadata": {},
   "outputs": [],
   "source": []
  }
 ],
 "metadata": {
  "kernelspec": {
   "display_name": "Python 3.9.0 ('moonbucks_env')",
   "language": "python",
   "name": "python3"
  },
  "language_info": {
   "codemirror_mode": {
    "name": "ipython",
    "version": 3
   },
   "file_extension": ".py",
   "mimetype": "text/x-python",
   "name": "python",
   "nbconvert_exporter": "python",
   "pygments_lexer": "ipython3",
   "version": "3.9.0"
  },
  "orig_nbformat": 4,
  "vscode": {
   "interpreter": {
    "hash": "fb71b31682535fc53402c3c12207b026517ff5d46d3560c79231c1b8ae0370aa"
   }
  }
 },
 "nbformat": 4,
 "nbformat_minor": 2
}
