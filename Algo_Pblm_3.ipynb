{
 "cells": [
  {
   "cell_type": "code",
   "execution_count": null,
   "metadata": {},
   "outputs": [],
   "source": [
    "from distribution_center import DistributionCenter\n",
    "from util import *\n",
    "from sentiment_analysis import sentimentAnalysis"
   ]
  },
  {
   "cell_type": "code",
   "execution_count": null,
   "metadata": {},
   "outputs": [],
   "source": [
    "country_codes = [\"US\", \"TH\", \"NZ\", \"CN\", \"AE\"]\n",
    "# country_codes = [\"TH\", \"NZ\", \"CN\", \"AE\"]\n",
    "\n",
    "def get_all_info(country_codes):\n",
    "    input = {\n",
    "        \"US\": {\"result\": 0, \"sent\": 0, \"dist\": 0},\n",
    "        \"TH\": {\"result\": 0, \"sent\": 0, \"dist\": 0},\n",
    "        \"NZ\": {\"result\": 0, \"sent\": 0, \"dist\": 0},\n",
    "        \"CN\": {\"result\": 0, \"sent\": 0, \"dist\": 0},\n",
    "        \"AE\": {\"result\": 0, \"sent\": 0, \"dist\": 0}\n",
    "    }\n",
    "    total_dist = 0\n",
    "\n",
    "    for country_code in country_codes:\n",
    "        cur_distrib_center = DistributionCenter(country_code)\n",
    "        cur_distrib_center.solve(method=\"nearest-neighbour\")\n",
    "        cur_cost = cur_distrib_center.info()[\"cost\"]\n",
    "        total_dist += cur_cost\n",
    "    \n",
    "    for country_code in country_codes:\n",
    "        # Problem 1\n",
    "        sentiment = sentimentAnalysis(country_code)\n",
    "        posper = sentiment[\"pos_per\"]\n",
    "        negper = sentiment[\"neg_per\"]\n",
    "        sent = posper / (posper + negper)\n",
    "        input[country_code][\"sent\"] = sent\n",
    "        \n",
    "        # Problem 2\n",
    "        cur_distrib_center = DistributionCenter(country_code)\n",
    "        cur_distrib_center.solve(method=\"nearest-neighbour\")\n",
    "        cur_cost = cur_distrib_center.info()[\"cost\"]\n",
    "        input[country_code][\"dist\"] = cur_cost\n",
    "\n",
    "        # Calculate result\n",
    "        result = 0.75 * input[country_code][\"sent\"] + 0.25 * (1 - input[country_code][\"dist\"] / total_dist)\n",
    "        input[country_code][\"result\"] = result\n",
    "\n",
    "    # Sorting\n",
    "    dlist = sorted(input.items(), key = lambda x: x[1]['result'])\n",
    "    sortd = dict(dlist)\n",
    "    return(sortd)"
   ]
  },
  {
   "cell_type": "code",
   "execution_count": null,
   "metadata": {},
   "outputs": [],
   "source": [
    "get_all_info(country_codes)"
   ]
  },
  {
   "cell_type": "code",
   "execution_count": null,
   "metadata": {},
   "outputs": [],
   "source": []
  },
  {
   "cell_type": "code",
   "execution_count": 1,
   "metadata": {},
   "outputs": [],
   "source": [
    "from problem3 import get_all_info, compute_all_scores\n",
    "\n",
    "country_codes = [\"US\", \"TH\", \"NZ\", \"CN\", \"AE\"]"
   ]
  },
  {
   "cell_type": "code",
   "execution_count": 2,
   "metadata": {},
   "outputs": [
    {
     "name": "stdout",
     "output_type": "stream",
     "text": [
      "[US] Solving distribution center took 9.74 s\n",
      "[US] Sentiment analysis took 40.57 s\n",
      "[TH] Solving distribution center took 4.52 s\n",
      "[TH] Sentiment analysis took 34.42 s\n",
      "[NZ] Solving distribution center took 4.29 s\n",
      "[NZ] Sentiment analysis took 30.77 s\n",
      "[CN] Solving distribution center took 5.45 s\n",
      "[CN] Sentiment analysis took 26.86 s\n",
      "[AE] Solving distribution center took 2.91 s\n",
      "[AE] Sentiment analysis took 22.74 s\n",
      "Total elapsed time : 182.26 s\n"
     ]
    }
   ],
   "source": [
    "all_info = get_all_info(country_codes=country_codes)"
   ]
  },
  {
   "cell_type": "code",
   "execution_count": 3,
   "metadata": {},
   "outputs": [
    {
     "data": {
      "text/plain": [
       "{'US': {'dist': 16295.074759000001, 'sent': 0.31155778894472363},\n",
       " 'TH': {'dist': 480.53023900000005, 'sent': 0.532608695652174},\n",
       " 'NZ': {'dist': 4555.216694000002, 'sent': 0.3559322033898305},\n",
       " 'CN': {'dist': 7107.810288999998, 'sent': 0.35074626865671643},\n",
       " 'AE': {'dist': 633.959671, 'sent': 0.9393939393939393}}"
      ]
     },
     "execution_count": 3,
     "metadata": {},
     "output_type": "execute_result"
    }
   ],
   "source": [
    "all_info"
   ]
  },
  {
   "cell_type": "code",
   "execution_count": 4,
   "metadata": {},
   "outputs": [
    {
     "data": {
      "text/plain": [
       "OrderedDict([('US',\n",
       "              {'dist': 16295.074759000001,\n",
       "               'sent': 0.31155778894472363,\n",
       "               'result': 0.3435443122269897}),\n",
       "             ('CN',\n",
       "              {'dist': 7107.810288999998,\n",
       "               'sent': 0.35074626865671643,\n",
       "               'result': 0.451938471107569}),\n",
       "             ('NZ',\n",
       "              {'dist': 4555.216694000002,\n",
       "               'sent': 0.3559322033898305,\n",
       "               'result': 0.47777809455306364}),\n",
       "             ('TH',\n",
       "              {'dist': 480.53023900000005,\n",
       "               'sent': 0.532608695652174,\n",
       "               'result': 0.6453243631346279}),\n",
       "             ('AE',\n",
       "              {'dist': 633.959671,\n",
       "               'sent': 0.9393939393939393,\n",
       "               'result': 0.9490939310057876})])"
      ]
     },
     "execution_count": 4,
     "metadata": {},
     "output_type": "execute_result"
    }
   ],
   "source": [
    "compute_all_scores(all_info, country_codes)"
   ]
  },
  {
   "cell_type": "code",
   "execution_count": null,
   "metadata": {},
   "outputs": [],
   "source": []
  }
 ],
 "metadata": {
  "kernelspec": {
   "display_name": "Python 3 (ipykernel)",
   "language": "python",
   "name": "python3"
  },
  "language_info": {
   "codemirror_mode": {
    "name": "ipython",
    "version": 3
   },
   "file_extension": ".py",
   "mimetype": "text/x-python",
   "name": "python",
   "nbconvert_exporter": "python",
   "pygments_lexer": "ipython3",
   "version": "3.9.0"
  },
  "vscode": {
   "interpreter": {
    "hash": "fb71b31682535fc53402c3c12207b026517ff5d46d3560c79231c1b8ae0370aa"
   }
  }
 },
 "nbformat": 4,
 "nbformat_minor": 2
}
