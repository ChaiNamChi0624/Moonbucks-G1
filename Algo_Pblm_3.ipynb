{
 "cells": [
  {
   "cell_type": "code",
   "execution_count": 5,
   "metadata": {},
   "outputs": [],
   "source": [
    "from distribution_center import DistributionCenter\n",
    "from util import *\n",
    "from sentiment_analysis import sentimentAnalysis\n"
   ]
  },
  {
   "cell_type": "code",
   "execution_count": 24,
   "metadata": {},
   "outputs": [
    {
     "name": "stderr",
     "output_type": "stream",
     "text": [
      "c:\\Users\\lebro\\OneDrive\\Desktop\\Year 2\\sem 2\\ADA\\Assignment - Copy - Copy\\distribution_center.py:118: UserWarning: No route found, use geodesic distance\n",
      "  warnings.warn(\"No route found, use geodesic distance\")\n",
      "c:\\Users\\lebro\\OneDrive\\Desktop\\Year 2\\sem 2\\ADA\\Assignment - Copy - Copy\\distribution_center.py:118: UserWarning: No route found, use geodesic distance\n",
      "  warnings.warn(\"No route found, use geodesic distance\")\n",
      "c:\\Users\\lebro\\OneDrive\\Desktop\\Year 2\\sem 2\\ADA\\Assignment - Copy - Copy\\distribution_center.py:118: UserWarning: No route found, use geodesic distance\n",
      "  warnings.warn(\"No route found, use geodesic distance\")\n",
      "c:\\Users\\lebro\\OneDrive\\Desktop\\Year 2\\sem 2\\ADA\\Assignment - Copy - Copy\\distribution_center.py:118: UserWarning: No route found, use geodesic distance\n",
      "  warnings.warn(\"No route found, use geodesic distance\")\n"
     ]
    },
    {
     "data": {
      "text/plain": [
       "{'US': {'result': 0.29664752633736957,\n",
       "  'sent': 0.31155778894472363,\n",
       "  'dist': 52182.51042372784},\n",
       " 'CN': {'result': 0.4706121546034975,\n",
       "  'sent': 0.35074626865671643,\n",
       "  'dist': 11843.706026},\n",
       " 'NZ': {'result': 0.5006233695666867,\n",
       "  'sent': 0.3559322033898305,\n",
       "  'dist': 4555.216694000002},\n",
       " 'TH': {'result': 0.6269490758869127,\n",
       "  'sent': 0.532608695652174,\n",
       "  'dist': 6280.023030933024},\n",
       " 'AE': {'result': 0.9507857697720176,\n",
       "  'sent': 0.9393939393939393,\n",
       "  'dist': 1049.026492}}"
      ]
     },
     "execution_count": 24,
     "metadata": {},
     "output_type": "execute_result"
    }
   ],
   "source": [
    "country_codes = [\"US\", \"TH\", \"NZ\", \"CN\", \"AE\"]\n",
    "# country_codes = [\"TH\", \"NZ\", \"CN\", \"AE\"]\n",
    "\n",
    "def get_all_info(country_codes):\n",
    "    input = {\n",
    "        \"US\": {\"result\": 0, \"sent\": 0, \"dist\": 0},\n",
    "        \"TH\": {\"result\": 0, \"sent\": 0, \"dist\": 0},\n",
    "        \"NZ\": {\"result\": 0, \"sent\": 0, \"dist\": 0},\n",
    "        \"CN\": {\"result\": 0, \"sent\": 0, \"dist\": 0},\n",
    "        \"AE\": {\"result\": 0, \"sent\": 0, \"dist\": 0}\n",
    "    }\n",
    "    total_dist = 0\n",
    "\n",
    "    for country_code in country_codes:\n",
    "        cur_distrib_center = DistributionCenter(country_code)\n",
    "        cur_distrib_center.solve(method=\"nearest-neighbour\")\n",
    "        cur_cost = cur_distrib_center.info()[\"cost\"]\n",
    "        total_dist += cur_cost\n",
    "    \n",
    "    for country_code in country_codes:\n",
    "        # Problem 1\n",
    "        sentiment = sentimentAnalysis(country_code)\n",
    "        posper = sentiment[\"pos_per\"]\n",
    "        negper = sentiment[\"neg_per\"]\n",
    "        sent = posper / (posper + negper)\n",
    "        input[country_code][\"sent\"] = sent\n",
    "        \n",
    "        # Problem 2\n",
    "        cur_distrib_center = DistributionCenter(country_code)\n",
    "        cur_distrib_center.solve(method=\"nearest-neighbour\")\n",
    "        cur_cost = cur_distrib_center.info()[\"cost\"]\n",
    "        input[country_code][\"dist\"] = cur_cost\n",
    "\n",
    "        # Calculate result\n",
    "        result = 0.75 * input[country_code][\"sent\"] + 0.25 * (1 - input[country_code][\"dist\"] / total_dist)\n",
    "        input[country_code][\"result\"] = result\n",
    "\n",
    "    # Sorting\n",
    "    dlist = sorted(input.items(), key = lambda x: x[1]['result'])\n",
    "    sortd = dict(dlist)\n",
    "    return(sortd)\n",
    "\n",
    "get_all_info(country_codes)"
   ]
  }
 ],
 "metadata": {
  "kernelspec": {
   "display_name": "Python 3.9.0 ('moonbucks_env')",
   "language": "python",
   "name": "python3"
  },
  "language_info": {
   "codemirror_mode": {
    "name": "ipython",
    "version": 3
   },
   "file_extension": ".py",
   "mimetype": "text/x-python",
   "name": "python",
   "nbconvert_exporter": "python",
   "pygments_lexer": "ipython3",
   "version": "3.9.0"
  },
  "orig_nbformat": 4,
  "vscode": {
   "interpreter": {
    "hash": "fb71b31682535fc53402c3c12207b026517ff5d46d3560c79231c1b8ae0370aa"
   }
  }
 },
 "nbformat": 4,
 "nbformat_minor": 2
}
