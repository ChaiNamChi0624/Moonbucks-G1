{
 "cells": [
  {
   "cell_type": "code",
   "execution_count": 1,
   "metadata": {},
   "outputs": [],
   "source": [
    "from problem3 import get_all_info, compute_all_scores"
   ]
  },
  {
   "cell_type": "code",
   "execution_count": 2,
   "metadata": {},
   "outputs": [],
   "source": [
    "country_codes = [\"US\", \"TH\", \"NZ\", \"CN\", \"AE\"]"
   ]
  },
  {
   "cell_type": "code",
   "execution_count": 3,
   "metadata": {},
   "outputs": [
    {
     "name": "stdout",
     "output_type": "stream",
     "text": [
      "[US] Solving distribution center took 6.9 s\n",
      "[US] Sentiment analysis took 0.19 s\n",
      "[TH] Solving distribution center took 3.08 s\n",
      "[TH] Sentiment analysis took 0.06 s\n",
      "[NZ] Solving distribution center took 0.89 s\n",
      "[NZ] Sentiment analysis took 0.19 s\n",
      "[CN] Solving distribution center took 3.09 s\n",
      "[CN] Sentiment analysis took 0.16 s\n",
      "[AE] Solving distribution center took 1.78 s\n",
      "[AE] Sentiment analysis took 0.17 s\n",
      "Total elapsed time : 16.5 s\n"
     ]
    }
   ],
   "source": [
    "all_info = get_all_info(country_codes=country_codes)"
   ]
  },
  {
   "cell_type": "code",
   "execution_count": 4,
   "metadata": {},
   "outputs": [
    {
     "data": {
      "text/plain": [
       "{'US': {'dist': 22891.336841, 'sent': 0.31155778894472363},\n",
       " 'TH': {'dist': 4323.619660200306, 'sent': 0.532608695652174},\n",
       " 'NZ': {'dist': 4555.216694000002, 'sent': 0.3559322033898305},\n",
       " 'CN': {'dist': 9312.98649, 'sent': 0.35074626865671643},\n",
       " 'AE': {'dist': 707.959642, 'sent': 0.9393939393939393}}"
      ]
     },
     "execution_count": 4,
     "metadata": {},
     "output_type": "execute_result"
    }
   ],
   "source": [
    "all_info"
   ]
  },
  {
   "cell_type": "code",
   "execution_count": 5,
   "metadata": {},
   "outputs": [
    {
     "data": {
      "text/plain": [
       "OrderedDict([('US',\n",
       "              {'dist': 22891.336841,\n",
       "               'sent': 0.31155778894472363,\n",
       "               'result': 0.3467293388203091}),\n",
       "             ('CN',\n",
       "              {'dist': 9312.98649,\n",
       "               'sent': 0.35074626865671643,\n",
       "               'result': 0.45734818526653787}),\n",
       "             ('NZ',\n",
       "              {'dist': 4555.216694000002,\n",
       "               'sent': 0.3559322033898305,\n",
       "               'result': 0.4896992441447581}),\n",
       "             ('TH',\n",
       "              {'dist': 4323.619660200306,\n",
       "               'sent': 0.532608695652174,\n",
       "               'result': 0.623592057411501}),\n",
       "             ('AE',\n",
       "              {'dist': 707.959642,\n",
       "               'sent': 0.9393939393939393,\n",
       "               'result': 0.9503103463849318})])"
      ]
     },
     "execution_count": 5,
     "metadata": {},
     "output_type": "execute_result"
    }
   ],
   "source": [
    "compute_all_scores(all_info, country_codes)"
   ]
  },
  {
   "cell_type": "code",
   "execution_count": null,
   "metadata": {},
   "outputs": [],
   "source": []
  }
 ],
 "metadata": {
  "kernelspec": {
   "display_name": "Python 3 (ipykernel)",
   "language": "python",
   "name": "python3"
  },
  "language_info": {
   "codemirror_mode": {
    "name": "ipython",
    "version": 3
   },
   "file_extension": ".py",
   "mimetype": "text/x-python",
   "name": "python",
   "nbconvert_exporter": "python",
   "pygments_lexer": "ipython3",
   "version": "3.9.0"
  },
  "vscode": {
   "interpreter": {
    "hash": "fb71b31682535fc53402c3c12207b026517ff5d46d3560c79231c1b8ae0370aa"
   }
  }
 },
 "nbformat": 4,
 "nbformat_minor": 2
}
