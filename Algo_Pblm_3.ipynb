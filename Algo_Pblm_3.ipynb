{
 "cells": [
  {
   "cell_type": "code",
   "execution_count": 1,
   "metadata": {},
   "outputs": [],
   "source": [
    "from problem3 import get_all_info, compute_all_scores, plot_ranking"
   ]
  },
  {
   "cell_type": "code",
   "execution_count": 2,
   "metadata": {},
   "outputs": [],
   "source": [
    "country_codes = [\"US\", \"TH\", \"NZ\", \"CN\", \"AE\"]"
   ]
  },
  {
   "cell_type": "code",
   "execution_count": 3,
   "metadata": {},
   "outputs": [
    {
     "name": "stdout",
     "output_type": "stream",
     "text": [
      "[US] Solving distribution center took 5.65 s\n",
      "[US] Sentiment analysis took 0.13 s\n",
      "[TH] Solving distribution center took 1.99 s\n",
      "[TH] Sentiment analysis took 0.05 s\n",
      "[NZ] Solving distribution center took 2.19 s\n",
      "[NZ] Sentiment analysis took 0.11 s\n",
      "[CN] Solving distribution center took 2.63 s\n",
      "[CN] Sentiment analysis took 0.1 s\n",
      "[AE] Solving distribution center took 1.49 s\n",
      "[AE] Sentiment analysis took 0.11 s\n",
      "Total elapsed time : 14.45 s\n"
     ]
    }
   ],
   "source": [
    "all_info = get_all_info(country_codes=country_codes)"
   ]
  },
  {
   "cell_type": "code",
   "execution_count": 4,
   "metadata": {},
   "outputs": [
    {
     "data": {
      "text/plain": [
       "{'US': {'dist': 15639.036747, 'sent': 0.31155778894472363},\n",
       " 'TH': {'dist': 3287.9693159999997, 'sent': 0.532608695652174},\n",
       " 'NZ': {'dist': 4555.222694000001, 'sent': 0.3559322033898305},\n",
       " 'CN': {'dist': 5844.274147, 'sent': 0.35074626865671643},\n",
       " 'AE': {'dist': 543.0738249999999, 'sent': 0.9393939393939393}}"
      ]
     },
     "execution_count": 4,
     "metadata": {},
     "output_type": "execute_result"
    }
   ],
   "source": [
    "all_info"
   ]
  },
  {
   "cell_type": "code",
   "execution_count": 5,
   "metadata": {},
   "outputs": [],
   "source": [
    "final_ranking = compute_all_scores(all_info, country_codes)"
   ]
  },
  {
   "cell_type": "code",
   "execution_count": 7,
   "metadata": {},
   "outputs": [
    {
     "data": {
      "image/png": "[encoded data removed]",
      "text/plain": [
       "<Figure size 432x288 with 1 Axes>"
      ]
     },
     "metadata": {
      "needs_background": "light"
     },
     "output_type": "display_data"
    }
   ],
   "source": [
    "plot_ranking(final_ranking)"
   ]
  },
  {
   "cell_type": "code",
   "execution_count": null,
   "metadata": {},
   "outputs": [],
   "source": []
  }
 ],
 "metadata": {
  "kernelspec": {
   "display_name": "Python 3 (ipykernel)",
   "language": "python",
   "name": "python3"
  },
  "language_info": {
   "codemirror_mode": {
    "name": "ipython",
    "version": 3
   },
   "file_extension": ".py",
   "mimetype": "text/x-python",
   "name": "python",
   "nbconvert_exporter": "python",
   "pygments_lexer": "ipython3",
   "version": "3.9.0"
  },
  "vscode": {
   "interpreter": {
    "hash": "fb71b31682535fc53402c3c12207b026517ff5d46d3560c79231c1b8ae0370aa"
   }
  }
 },
 "nbformat": 4,
 "nbformat_minor": 2
}
