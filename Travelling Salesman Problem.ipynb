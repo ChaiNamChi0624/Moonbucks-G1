{
 "cells": [
  {
   "cell_type": "code",
   "execution_count": null,
   "id": "ae40e63b",
   "metadata": {},
   "outputs": [],
   "source": [
    "# Input: every store in a country\n",
    "# Output: a shortest cycle that travels through every store once and return back to the starting store \n",
    "\n",
    "# Algorithms: Greedy heuristic (suboptimal and efficient), Held-Karp algorithm (optimal but inefficient, O(2^n n^2))\n",
    "# Genetic algorithm : https://www.youtube.com/watch?v=Sk9QQUGMdY8, https://github.com/Josephbakulikira/Traveling-Salesman-Algorithm\n",
    "\n",
    "# build distance matrix\n",
    "# find path\n",
    "# find routes from Mapbox API for the stores involved in the path\n",
    "# plot"
   ]
  },
  {
   "cell_type": "code",
   "execution_count": null,
   "id": "bcb89cd1",
   "metadata": {},
   "outputs": [],
   "source": [
    "from util import load_dataset, get_country_dict, get_local_stores"
   ]
  },
  {
   "cell_type": "code",
   "execution_count": null,
   "id": "6eea4928",
   "metadata": {},
   "outputs": [],
   "source": [
    "df = load_dataset()\n",
    "country_dict = get_country_dict(df)\n",
    "netherlands_df = get_local_stores(df, country_code=\"MY\")"
   ]
  },
  {
   "cell_type": "code",
   "execution_count": null,
   "id": "ab17ef6d",
   "metadata": {},
   "outputs": [],
   "source": [
    "netherlands_df"
   ]
  },
  {
   "cell_type": "code",
   "execution_count": null,
   "id": "b08f8321",
   "metadata": {},
   "outputs": [],
   "source": [
    "from geopy import distance as geopy_dist\n",
    "import os\n",
    "import warnings\n",
    "from mapbox import Directions\n",
    "\n",
    "def build_distance_matrix(local_store_df):\n",
    "    with open(\"./mapbox_api_key.txt\") as f:\n",
    "        api_key = f.readline()\n",
    "    os.environ['MAPBOX_ACCESS_TOKEN'] = api_key\n",
    "    service = Directions()\n",
    "    \n",
    "    n = len(local_store_df)\n",
    "    distance_mat = [[0 for _ in range(n)] for _ in range(n)]\n",
    "    path_mat = [[{\"path\": None, \"duration\": None, \"code\": \"NoRoute\"} for _ in range(n)] for _ in range(n)]\n",
    "    \n",
    "    for i in range(n):\n",
    "        print(i)\n",
    "        for j in range(n):\n",
    "            \n",
    "            if i == j: continue\n",
    "            \n",
    "            latlong_i = (local_store_df.iloc[i][\"latitude\"], local_store_df.iloc[i][\"longitude\"])\n",
    "            latlong_j = (local_store_df.iloc[j][\"latitude\"], local_store_df.iloc[j][\"longitude\"])\n",
    "            \n",
    "            response = service.directions([latlong_i[::-1], latlong_j[::-1]], profile=\"mapbox/driving\")\n",
    "            \n",
    "            if response.status_code != 200: raise Exception(\"Failed to retrieve routes from Mapbox API\")\n",
    "            \n",
    "            response_json = response.json()\n",
    "            \n",
    "            if response_json[\"code\"] == \"NoRoute\":\n",
    "                warnings.warn(\"No route found, use geodesic distance\")\n",
    "                distance_mat[i][j] = geopy_dist.geodesic(latlong_i, latlong_j).km\n",
    "                path_mat[i][j][\"path\"] = None                      \n",
    "                path_mat[i][j][\"duration\"] = None  \n",
    "            else:\n",
    "                distance_mat[i][j] = response_json[\"routes\"][0][\"distance\"] / 1000        # km\n",
    "                path_mat[i][j][\"path\"] = response_json[\"routes\"][0][\"geometry\"]           # polyline string\n",
    "                path_mat[i][j][\"duration\"] = response_json[\"routes\"][0][\"duration\"] / 60  # minutes\n",
    "                path_mat[i][j][\"code\"] = \"Ok\"\n",
    "    \n",
    "    return distance_mat, path_mat"
   ]
  },
  {
   "cell_type": "code",
   "execution_count": null,
   "id": "8cc7c3ee",
   "metadata": {},
   "outputs": [],
   "source": [
    "import itertools\n",
    "import sys\n",
    "\n",
    "# https://medium.com/analytics-vidhya/are-you-read-for-solving-the-traveling-salesman-problem-80e3c4ea45fc\n",
    "# https://github.com/CarlEkerot/held-karp\n",
    "# https://www.youtube.com/watch?v=-JjA4BLQyqE\n",
    "\n",
    "def held_karp(distance_mat):\n",
    "    \"\"\"\n",
    "    Implementation of Held-Karp, an algorithm that solves the Traveling\n",
    "    Salesman Problem using dynamic programming with memoization.\n",
    "    Parameters:\n",
    "        distance_mat: distance matrix\n",
    "    Returns:\n",
    "        A tuple, (cost, path).\n",
    "    \"\"\"\n",
    "    n = len(distance_mat)\n",
    "\n",
    "    # Maps each subset of the nodes to the cost to reach that subset, as well\n",
    "    # as what node it passed before reaching this subset.\n",
    "    # Node subsets are represented as set bits.\n",
    "    C = {}\n",
    "\n",
    "    # Set transition cost from initial state\n",
    "    for k in range(1, n):\n",
    "        C[(1 << k, k)] = (distance_mat[0][k], 0)\n",
    "\n",
    "    # Iterate subsets of increasing length and store intermediate results\n",
    "    # in classic dynamic programming manner\n",
    "    for subset_size in range(2, n):\n",
    "        for subset in itertools.combinations(range(1, n), subset_size):\n",
    "            # Set bits for all nodes in this subset\n",
    "            bits = 0\n",
    "            for bit in subset:\n",
    "                bits |= 1 << bit\n",
    "\n",
    "            # Find the lowest cost to get to this subset\n",
    "            for k in subset:\n",
    "                prev = bits & ~(1 << k)\n",
    "\n",
    "                res = []\n",
    "                for m in subset:\n",
    "                    if m == 0 or m == k:\n",
    "                        continue\n",
    "                    res.append((C[(prev, m)][0] + distance_mat[m][k], m))\n",
    "                C[(bits, k)] = min(res)\n",
    "\n",
    "    # We're interested in all bits but the least significant (the start state)\n",
    "    bits = (2**n - 1) - 1\n",
    "\n",
    "    # Calculate optimal cost\n",
    "    res = []\n",
    "    for k in range(1, n):\n",
    "        res.append((C[(bits, k)][0] + distance_mat[k][0], k))\n",
    "    opt, parent = min(res)\n",
    "\n",
    "    # Backtrack to find full path\n",
    "    path = []\n",
    "    for i in range(n - 1):\n",
    "        path.append(parent)\n",
    "        new_bits = bits & ~(1 << parent)\n",
    "        _, parent = C[(bits, parent)]\n",
    "        bits = new_bits\n",
    "\n",
    "    # Add implicit start state\n",
    "    path.append(0)\n",
    "\n",
    "    return opt, list(reversed(path))"
   ]
  },
  {
   "cell_type": "code",
   "execution_count": null,
   "id": "4c9b3eb7",
   "metadata": {},
   "outputs": [],
   "source": [
    "%%timeit -n1 -r1\n",
    "distance_mat_nl, path_mat_nl = build_distance_matrix(netherlands_df)"
   ]
  },
  {
   "cell_type": "code",
   "execution_count": null,
   "id": "e5f3656f",
   "metadata": {},
   "outputs": [],
   "source": [
    "import numpy as np\n",
    "\n",
    "np.array(distance_mat_nl).round(2)"
   ]
  },
  {
   "cell_type": "code",
   "execution_count": null,
   "id": "c493cde7",
   "metadata": {
    "scrolled": true
   },
   "outputs": [],
   "source": [
    "path_mat_nl"
   ]
  },
  {
   "cell_type": "code",
   "execution_count": null,
   "id": "1e0b0fe2",
   "metadata": {},
   "outputs": [],
   "source": [
    "cost, path = held_karp(distance_mat_nl)"
   ]
  },
  {
   "cell_type": "code",
   "execution_count": null,
   "id": "5f7b6998",
   "metadata": {},
   "outputs": [],
   "source": [
    "import folium\n",
    "import math\n",
    "import json\n",
    "import requests\n",
    "import polyline\n",
    "from itertools import cycle\n",
    "\n",
    "def build_map(center_idx, path, distance_mat, path_mat, local_store_df):\n",
    "    def construct_address(store_info):\n",
    "        address = \"\"\n",
    "        for i, key in enumerate(('street_address', 'zip_code', 'city', 'country')):\n",
    "            try:\n",
    "                isnan = math.isnan(store_info[key])\n",
    "            except:\n",
    "                isnan = False # If input to math.isnan is not a float\n",
    "            if store_info[key] != \"0\" and not isnan:\n",
    "                address += f\"{store_info[key]}, \" if i != 3 else f\"{store_info[key]}.\"\n",
    "        return address\n",
    "    \n",
    "    def construct_openhours(store_info):\n",
    "        try:\n",
    "            isnan = math.isnan(store_info[\"open_hours\"])\n",
    "        except:\n",
    "            isnan = False # If input to math.isnan is not a float\n",
    "        \n",
    "        if not isnan:\n",
    "            openhours = {}\n",
    "            for openhour in store_info[\"open_hours\"].split(\", \"):\n",
    "                day, time = openhour.split(\" : \")\n",
    "                openhours[day] = time\n",
    "            return openhours\n",
    "        return None\n",
    "    \n",
    "    def construct_store_tooltip(store_info, storetype):\n",
    "        address = construct_address(store_info)\n",
    "        openhours = construct_openhours(store_info)\n",
    "        storename = store_info[\"name\"]\n",
    "        url = store_info[\"url\"]\n",
    "        tooltip = f\"\"\"\n",
    "            <p><i>{storetype}</i></p>\n",
    "            <h3>{storename}</h3>\n",
    "            <hr>\n",
    "            <p><b>Address</b> : {address}</p>\n",
    "            <table>\n",
    "                <tr><th>Opening Hours</th></tr>\n",
    "                {\"\".join(f\"<tr><td>{day}</td><td>{openhours[day]}</td></tr>\" for day in [\"Monday\", \"Tuesday\", \"Wednesday\", \"Thursday\", \"Friday\", \"Saturday\", \"Sunday\"] if day in openhours) if openhours != None else f\"<tr><td>{'Not available'}</td><td></td></tr>\"}\n",
    "            </table>\n",
    "            <br>\n",
    "            <p><b>Check us out on :</b><br><a href=\"{url}\">{url}</a></p>\n",
    "        \"\"\"\n",
    "        return tooltip\n",
    "    \n",
    "    def fetch_country_geojson(country_name):\n",
    "        res = requests.get(f\"https://nominatim.openstreetmap.org/search?country={country_name}&polygon_geojson=1&format=json\")\n",
    "        country_geojson = json.loads(res.content.decode())[0][\"geojson\"]\n",
    "        return country_geojson\n",
    "        \n",
    "    \n",
    "    folium_map = folium.Map(location=(local_store_df.iloc[center_idx][\"latitude\"], local_store_df.iloc[center_idx][\"longitude\"]), control_scale=True)\n",
    "    folium.GeoJson(fetch_country_geojson(country_name=local_store_df.iloc[0][\"country\"]), name=local_store_df.iloc[0][\"country\"], style_function=lambda x: {'fillOpacity': 0.1}).add_to(folium_map)\n",
    "    \n",
    "    for idx, store_info in local_store_df.iterrows():\n",
    "        latlong_store = (store_info[\"latitude\"], store_info[\"longitude\"])\n",
    "        if idx == center_idx:\n",
    "            center_tooltip = construct_store_tooltip(store_info, storetype=\"Moonbucks' Distribution Center\")\n",
    "            folium.Marker(location=latlong_store, popup=folium.Popup(center_tooltip, min_width=300, max_width=300), tooltip=folium.Tooltip(center_tooltip), icon=folium.Icon(color=\"red\", icon=\"building-o\", prefix=\"fa\")).add_to(folium_map)\n",
    "        else:\n",
    "            store_tooltip = construct_store_tooltip(store_info, storetype=\"Moonbucks' Branch\")\n",
    "            folium.Marker(location=latlong_store, popup=folium.Popup(store_tooltip, min_width=300, max_width=300), tooltip=folium.Tooltip(store_tooltip), icon=folium.Icon(color=\"green\", icon=\"home\", prefix=\"glyphicon\")).add_to(folium_map)\n",
    "    \n",
    "    for i in range(len(path)):\n",
    "        if i == len(path) - 1: break   # if this is the last store in the path\n",
    "        origin_idx = path[i] \n",
    "        dest_idx = path[i + 1]\n",
    "        cur_duration = path_mat[origin_idx][dest_idx][\"duration\"]\n",
    "        cur_distance = distance_mat[origin_idx][dest_idx]\n",
    "        cur_path_coords = polyline.decode(path_mat[origin_idx][dest_idx][\"path\"], geojson=True) \n",
    "        cur_path_geojson = {\"type\": \"LineString\", \"coordinates\": cur_path_coords}\n",
    "        \n",
    "        path_popup = f\"\"\"\n",
    "            <h5>From : <i><u>{local_store_df.iloc[origin_idx][\"name\"]}</u></i> <br>To : <i><u>{local_store_df.iloc[dest_idx][\"name\"]}</u></i></h5>\n",
    "            <b>Distance : </b> {round(cur_distance, 2)} km <br>\n",
    "            <b>Duration : </b> {round(cur_duration, 2)} minutes\n",
    "        \"\"\"\n",
    "        folium.GeoJson(cur_path_geojson, style_function=lambda x: {'color': \"green\"}, name=f\"{local_store_df.iloc[origin_idx]['name']} -> {local_store_df.iloc[dest_idx]['name']}\").add_child(folium.Popup(path_popup, max_width=300)).add_to(folium_map)\n",
    "    \n",
    "    folium.LayerControl().add_to(folium_map)\n",
    "    return folium_map"
   ]
  },
  {
   "cell_type": "code",
   "execution_count": null,
   "id": "6779b71d",
   "metadata": {
    "scrolled": false
   },
   "outputs": [],
   "source": [
    "folium_map = build_map(center_idx=0, path=path, distance_mat=distance_mat_nl, path_mat=path_mat_nl, local_store_df=netherlands_df)"
   ]
  },
  {
   "cell_type": "code",
   "execution_count": null,
   "id": "c1b74c5b",
   "metadata": {
    "scrolled": false
   },
   "outputs": [],
   "source": [
    "folium_map"
   ]
  },
  {
   "cell_type": "code",
   "execution_count": null,
   "id": "44828dd8",
   "metadata": {},
   "outputs": [],
   "source": [
    "np.array(path_mat_nl)[0][1]"
   ]
  },
  {
   "cell_type": "code",
   "execution_count": null,
   "id": "60fdfac5",
   "metadata": {},
   "outputs": [],
   "source": [
    "np.array(distance_mat_nl)[0][1]"
   ]
  },
  {
   "cell_type": "code",
   "execution_count": null,
   "id": "7f863604",
   "metadata": {},
   "outputs": [],
   "source": [
    "list(folium.map.Icon.color_options)"
   ]
  },
  {
   "cell_type": "code",
   "execution_count": null,
   "id": "cd35fb79",
   "metadata": {},
   "outputs": [],
   "source": [
    "from itertools import cycle\n",
    "\n",
    "color_iter = cycle(folium.map.Icon.color_options)"
   ]
  },
  {
   "cell_type": "code",
   "execution_count": null,
   "id": "913b4814",
   "metadata": {},
   "outputs": [],
   "source": [
    "abc  = next(color_iter)\n",
    "print(abc)\n",
    "print(abc)"
   ]
  },
  {
   "cell_type": "code",
   "execution_count": null,
   "id": "e1bf8f2b",
   "metadata": {},
   "outputs": [],
   "source": []
  }
 ],
 "metadata": {
  "kernelspec": {
   "display_name": "Python 3 (ipykernel)",
   "language": "python",
   "name": "python3"
  },
  "language_info": {
   "codemirror_mode": {
    "name": "ipython",
    "version": 3
   },
   "file_extension": ".py",
   "mimetype": "text/x-python",
   "name": "python",
   "nbconvert_exporter": "python",
   "pygments_lexer": "ipython3",
   "version": "3.9.13"
  }
 },
 "nbformat": 4,
 "nbformat_minor": 5
}
