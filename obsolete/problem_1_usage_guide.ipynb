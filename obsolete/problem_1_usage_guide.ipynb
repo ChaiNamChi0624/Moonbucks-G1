{
 "cells": [
  {
   "cell_type": "code",
   "execution_count": 1,
   "id": "620d56d6",
   "metadata": {},
   "outputs": [],
   "source": [
    "from sentiment_analysis import *\n",
    "import time"
   ]
  },
  {
   "cell_type": "code",
   "execution_count": 2,
   "id": "21dad73a",
   "metadata": {},
   "outputs": [],
   "source": [
    "country_codes = [\"AE\", \"CN\", \"NZ\", \"TH\", \"US\"]"
   ]
  },
  {
   "cell_type": "code",
   "execution_count": 8,
   "id": "70ad9c4e",
   "metadata": {},
   "outputs": [
    {
     "data": {
      "text/plain": [
       "{'country_code': 'AE',\n",
       " 'pos_per': 6.365503080082135,\n",
       " 'neg_per': 0.41067761806981523,\n",
       " 'neu_per': 93.22381930184805,\n",
       " 'overall': 'positive',\n",
       " 'score': 0.9393939393939393}"
      ]
     },
     "execution_count": 8,
     "metadata": {},
     "output_type": "execute_result"
    }
   ],
   "source": [
    "sentimentAnalysis(country_code=\"AE\", method=\"freq\")"
   ]
  },
  {
   "cell_type": "code",
   "execution_count": 7,
   "id": "e112ccd9",
   "metadata": {},
   "outputs": [
    {
     "data": {
      "text/plain": [
       "{'country_code': 'AE',\n",
       " 'pos_per': 23.1,\n",
       " 'neg_per': 0.8999999999999999,\n",
       " 'neu_per': 76.0,\n",
       " 'overall': 'positive',\n",
       " 'score': 0.9625}"
      ]
     },
     "execution_count": 7,
     "metadata": {},
     "output_type": "execute_result"
    }
   ],
   "source": [
    "sentimentAnalysis(country_code=\"AE\", method=\"vader\")"
   ]
  },
  {
   "cell_type": "code",
   "execution_count": 4,
   "id": "ca3924ff",
   "metadata": {},
   "outputs": [
    {
     "name": "stdout",
     "output_type": "stream",
     "text": [
      "Sentiment Analysis on AE took 0.07 s\n",
      "Sentiment Analysis on CN took 0.07 s\n",
      "Sentiment Analysis on NZ took 0.08 s\n",
      "Sentiment Analysis on TH took 0.11 s\n",
      "Sentiment Analysis on US took 0.12 s\n"
     ]
    }
   ],
   "source": [
    "vader_sentiment_info = {}\n",
    "for country_code in country_codes:\n",
    "    start_t = time.time()\n",
    "    print(f\"Sentiment Analysis on {country_code}\", end=\"\")\n",
    "    \n",
    "    vader_sentiment_info[country_code] = sentimentAnalysis(country_code, method=\"vader\")\n",
    "    end_t = time.time()\n",
    "    print(f\" took {round(end_t - start_t, 2)} s\")"
   ]
  },
  {
   "cell_type": "code",
   "execution_count": 5,
   "id": "594b6b96",
   "metadata": {},
   "outputs": [
    {
     "data": {
      "text/plain": [
       "{'AE': {'country_code': 'AE',\n",
       "  'pos_per': 23.1,\n",
       "  'neg_per': 0.8999999999999999,\n",
       "  'neu_per': 76.0,\n",
       "  'overall': 'positive',\n",
       "  'score': 0.9625},\n",
       " 'CN': {'country_code': 'CN',\n",
       "  'pos_per': 8.7,\n",
       "  'neg_per': 11.700000000000001,\n",
       "  'neu_per': 79.7,\n",
       "  'overall': 'negative',\n",
       "  'score': 0.4264705882352941},\n",
       " 'NZ': {'country_code': 'NZ',\n",
       "  'pos_per': 10.7,\n",
       "  'neg_per': 14.099999999999998,\n",
       "  'neu_per': 75.1,\n",
       "  'overall': 'negative',\n",
       "  'score': 0.4314516129032258},\n",
       " 'TH': {'country_code': 'TH',\n",
       "  'pos_per': 17.5,\n",
       "  'neg_per': 7.3999999999999995,\n",
       "  'neu_per': 75.1,\n",
       "  'overall': 'positive',\n",
       "  'score': 0.7028112449799198},\n",
       " 'US': {'country_code': 'US',\n",
       "  'pos_per': 8.4,\n",
       "  'neg_per': 14.7,\n",
       "  'neu_per': 76.9,\n",
       "  'overall': 'negative',\n",
       "  'score': 0.36363636363636365}}"
      ]
     },
     "execution_count": 5,
     "metadata": {},
     "output_type": "execute_result"
    }
   ],
   "source": [
    "vader_sentiment_info"
   ]
  },
  {
   "cell_type": "code",
   "execution_count": 9,
   "id": "614615f3",
   "metadata": {},
   "outputs": [
    {
     "name": "stdout",
     "output_type": "stream",
     "text": [
      "Sentiment Analysis on AE took 22.65 s\n",
      "Sentiment Analysis on CN took 29.74 s\n",
      "Sentiment Analysis on NZ took 27.02 s\n",
      "Sentiment Analysis on TH took 33.1 s\n",
      "Sentiment Analysis on US took 37.1 s\n"
     ]
    }
   ],
   "source": [
    "freq_sentiment_info = {}\n",
    "for country_code in country_codes:\n",
    "    start_t = time.time()\n",
    "    print(f\"Sentiment Analysis on {country_code}\", end=\"\")\n",
    "    \n",
    "    freq_sentiment_info[country_code] = sentimentAnalysis(country_code, method=\"freq\")\n",
    "    end_t = time.time()\n",
    "    print(f\" took {round(end_t - start_t, 2)} s\")"
   ]
  },
  {
   "cell_type": "code",
   "execution_count": null,
   "id": "8973afd4",
   "metadata": {},
   "outputs": [],
   "source": []
  }
 ],
 "metadata": {
  "kernelspec": {
   "display_name": "Python 3 (ipykernel)",
   "language": "python",
   "name": "python3"
  },
  "language_info": {
   "codemirror_mode": {
    "name": "ipython",
    "version": 3
   },
   "file_extension": ".py",
   "mimetype": "text/x-python",
   "name": "python",
   "nbconvert_exporter": "python",
   "pygments_lexer": "ipython3",
   "version": "3.9.0"
  },
  "vscode": {
   "interpreter": {
    "hash": "fb71b31682535fc53402c3c12207b026517ff5d46d3560c79231c1b8ae0370aa"
   }
  }
 },
 "nbformat": 4,
 "nbformat_minor": 5
}
