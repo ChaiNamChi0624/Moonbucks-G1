{
  "nbformat": 4,
  "nbformat_minor": 0,
  "metadata": {
    "colab": {
      "name": "Project.ipynb",
      "provenance": [],
      "collapsed_sections": []
    },
    "kernelspec": {
      "name": "python3",
      "display_name": "Python 3"
    },
    "language_info": {
      "name": "python"
    }
  },
  "cells": [
    {
      "cell_type": "code",
      "source": [
        "import pandas as pd \n",
        "import pycountry\n",
        "from util import *"
      ],
      "metadata": {
        "id": "6iw2sVvVjrb9"
      },
      "execution_count": 5,
      "outputs": []
    },
    {
      "cell_type": "code",
      "source": [
        "df = load_dataset()\n",
        "countries = get_country_dict(df)\n",
        "local_store_df = get_local_stores(df, country_code=\"AT\")"
      ],
      "metadata": {
        "id": "PIQDH_Izjtor"
      },
      "execution_count": 6,
      "outputs": []
    },
    {
      "cell_type": "code",
      "source": [
        "local_store_df"
      ],
      "metadata": {
        "colab": {
          "base_uri": "https://localhost:8080/",
          "height": 532
        },
        "id": "4D3BCv8klQpz",
        "outputId": "4dd5974b-661e-4765-8fda-1993eea1aa7a"
      },
      "execution_count": 7,
      "outputs": [
        {
          "output_type": "execute_result",
          "data": {
            "text/plain": [
              "                          name  \\\n",
              "0                  Neubaugasse   \n",
              "1          Mariahilfer Strasse   \n",
              "2              Millennium City   \n",
              "3  AKH Allgemeines Krankenhaus   \n",
              "4             Rotenturmstrasse   \n",
              "5             Invalidenstrasse   \n",
              "6               Michaelerplatz   \n",
              "7            Karlsplatzpassage   \n",
              "8                 Donauzentrum   \n",
              "\n",
              "                                                 url  \\\n",
              "0  https://www.starbucks.com/store-locator/store/161   \n",
              "1  https://www.starbucks.com/store-locator/store/160   \n",
              "2  https://www.starbucks.com/store-locator/store/164   \n",
              "3  https://www.starbucks.com/store-locator/store/171   \n",
              "4  https://www.starbucks.com/store-locator/store/169   \n",
              "5  https://www.starbucks.com/store-locator/store/172   \n",
              "6  https://www.starbucks.com/store-locator/store/170   \n",
              "7  https://www.starbucks.com/store-locator/store/168   \n",
              "8  https://www.starbucks.com/store-locator/store/...   \n",
              "\n",
              "              street_address  city zip_code country_code  country  \\\n",
              "0              Neubaugasse 4  Wien     1070           AT  Austria   \n",
              "1  Mariahilfer Strasse 23-25  Wien     1060           AT  Austria   \n",
              "2           Handelskai 94-96  Wien     1200           AT  Austria   \n",
              "3   Waehringer Guertel 18-20  Wien     1090           AT  Austria   \n",
              "4        Rotenturmstrasse 22  Wien     1010           AT  Austria   \n",
              "5        Invalidenstrasse 11  Wien     1030           AT  Austria   \n",
              "6           Reitschulgasse 4  Wien     1010           AT  Austria   \n",
              "7    Karlsplatz Hauptpassage  Wien     1010           AT  Austria   \n",
              "8        Wagramer Strasse 81  Wien     1220           AT  Austria   \n",
              "\n",
              "                                          open_hours   latitude  longitude  \n",
              "0  Wednesday : 7:00 AM to 9:00 PM, Thursday : 7:0...  48.198655  16.350052  \n",
              "1  Wednesday : 7:30 AM to 10:00 PM, Thursday : 7:...  48.200706  16.358635  \n",
              "2  Wednesday : 7:00 AM to 9:00 PM, Thursday : 7:0...  48.240344  16.386985  \n",
              "3  Wednesday : 6:30 AM to 7:30 PM, Thursday : 6:3...  48.220408  16.347473  \n",
              "4  Wednesday : 7:00 AM to 9:30 PM, Thursday : 7:0...  48.211299  16.376093  \n",
              "5  Wednesday : 6:30 AM to 9:00 PM, Thursday : 6:3...  48.205817  16.385848  \n",
              "6  Wednesday : 8:00 AM to 8:00 PM, Thursday : 8:0...  48.207627  16.367094  \n",
              "7  Wednesday : 6:30 AM to 8:00 PM, Thursday : 6:3...  48.200786  16.368764  \n",
              "8  Wednesday : 7:30 AM to 8:30 PM, Thursday : 7:3...  48.243246  16.434104  "
            ],
            "text/html": [
              "\n",
              "  <div id=\"df-efbd205a-af41-48b2-a2cc-74beb861320e\">\n",
              "    <div class=\"colab-df-container\">\n",
              "      <div>\n",
              "<style scoped>\n",
              "    .dataframe tbody tr th:only-of-type {\n",
              "        vertical-align: middle;\n",
              "    }\n",
              "\n",
              "    .dataframe tbody tr th {\n",
              "        vertical-align: top;\n",
              "    }\n",
              "\n",
              "    .dataframe thead th {\n",
              "        text-align: right;\n",
              "    }\n",
              "</style>\n",
              "<table border=\"1\" class=\"dataframe\">\n",
              "  <thead>\n",
              "    <tr style=\"text-align: right;\">\n",
              "      <th></th>\n",
              "      <th>name</th>\n",
              "      <th>url</th>\n",
              "      <th>street_address</th>\n",
              "      <th>city</th>\n",
              "      <th>zip_code</th>\n",
              "      <th>country_code</th>\n",
              "      <th>country</th>\n",
              "      <th>open_hours</th>\n",
              "      <th>latitude</th>\n",
              "      <th>longitude</th>\n",
              "    </tr>\n",
              "  </thead>\n",
              "  <tbody>\n",
              "    <tr>\n",
              "      <th>0</th>\n",
              "      <td>Neubaugasse</td>\n",
              "      <td>https://www.starbucks.com/store-locator/store/161</td>\n",
              "      <td>Neubaugasse 4</td>\n",
              "      <td>Wien</td>\n",
              "      <td>1070</td>\n",
              "      <td>AT</td>\n",
              "      <td>Austria</td>\n",
              "      <td>Wednesday : 7:00 AM to 9:00 PM, Thursday : 7:0...</td>\n",
              "      <td>48.198655</td>\n",
              "      <td>16.350052</td>\n",
              "    </tr>\n",
              "    <tr>\n",
              "      <th>1</th>\n",
              "      <td>Mariahilfer Strasse</td>\n",
              "      <td>https://www.starbucks.com/store-locator/store/160</td>\n",
              "      <td>Mariahilfer Strasse 23-25</td>\n",
              "      <td>Wien</td>\n",
              "      <td>1060</td>\n",
              "      <td>AT</td>\n",
              "      <td>Austria</td>\n",
              "      <td>Wednesday : 7:30 AM to 10:00 PM, Thursday : 7:...</td>\n",
              "      <td>48.200706</td>\n",
              "      <td>16.358635</td>\n",
              "    </tr>\n",
              "    <tr>\n",
              "      <th>2</th>\n",
              "      <td>Millennium City</td>\n",
              "      <td>https://www.starbucks.com/store-locator/store/164</td>\n",
              "      <td>Handelskai 94-96</td>\n",
              "      <td>Wien</td>\n",
              "      <td>1200</td>\n",
              "      <td>AT</td>\n",
              "      <td>Austria</td>\n",
              "      <td>Wednesday : 7:00 AM to 9:00 PM, Thursday : 7:0...</td>\n",
              "      <td>48.240344</td>\n",
              "      <td>16.386985</td>\n",
              "    </tr>\n",
              "    <tr>\n",
              "      <th>3</th>\n",
              "      <td>AKH Allgemeines Krankenhaus</td>\n",
              "      <td>https://www.starbucks.com/store-locator/store/171</td>\n",
              "      <td>Waehringer Guertel 18-20</td>\n",
              "      <td>Wien</td>\n",
              "      <td>1090</td>\n",
              "      <td>AT</td>\n",
              "      <td>Austria</td>\n",
              "      <td>Wednesday : 6:30 AM to 7:30 PM, Thursday : 6:3...</td>\n",
              "      <td>48.220408</td>\n",
              "      <td>16.347473</td>\n",
              "    </tr>\n",
              "    <tr>\n",
              "      <th>4</th>\n",
              "      <td>Rotenturmstrasse</td>\n",
              "      <td>https://www.starbucks.com/store-locator/store/169</td>\n",
              "      <td>Rotenturmstrasse 22</td>\n",
              "      <td>Wien</td>\n",
              "      <td>1010</td>\n",
              "      <td>AT</td>\n",
              "      <td>Austria</td>\n",
              "      <td>Wednesday : 7:00 AM to 9:30 PM, Thursday : 7:0...</td>\n",
              "      <td>48.211299</td>\n",
              "      <td>16.376093</td>\n",
              "    </tr>\n",
              "    <tr>\n",
              "      <th>5</th>\n",
              "      <td>Invalidenstrasse</td>\n",
              "      <td>https://www.starbucks.com/store-locator/store/172</td>\n",
              "      <td>Invalidenstrasse 11</td>\n",
              "      <td>Wien</td>\n",
              "      <td>1030</td>\n",
              "      <td>AT</td>\n",
              "      <td>Austria</td>\n",
              "      <td>Wednesday : 6:30 AM to 9:00 PM, Thursday : 6:3...</td>\n",
              "      <td>48.205817</td>\n",
              "      <td>16.385848</td>\n",
              "    </tr>\n",
              "    <tr>\n",
              "      <th>6</th>\n",
              "      <td>Michaelerplatz</td>\n",
              "      <td>https://www.starbucks.com/store-locator/store/170</td>\n",
              "      <td>Reitschulgasse 4</td>\n",
              "      <td>Wien</td>\n",
              "      <td>1010</td>\n",
              "      <td>AT</td>\n",
              "      <td>Austria</td>\n",
              "      <td>Wednesday : 8:00 AM to 8:00 PM, Thursday : 8:0...</td>\n",
              "      <td>48.207627</td>\n",
              "      <td>16.367094</td>\n",
              "    </tr>\n",
              "    <tr>\n",
              "      <th>7</th>\n",
              "      <td>Karlsplatzpassage</td>\n",
              "      <td>https://www.starbucks.com/store-locator/store/168</td>\n",
              "      <td>Karlsplatz Hauptpassage</td>\n",
              "      <td>Wien</td>\n",
              "      <td>1010</td>\n",
              "      <td>AT</td>\n",
              "      <td>Austria</td>\n",
              "      <td>Wednesday : 6:30 AM to 8:00 PM, Thursday : 6:3...</td>\n",
              "      <td>48.200786</td>\n",
              "      <td>16.368764</td>\n",
              "    </tr>\n",
              "    <tr>\n",
              "      <th>8</th>\n",
              "      <td>Donauzentrum</td>\n",
              "      <td>https://www.starbucks.com/store-locator/store/...</td>\n",
              "      <td>Wagramer Strasse 81</td>\n",
              "      <td>Wien</td>\n",
              "      <td>1220</td>\n",
              "      <td>AT</td>\n",
              "      <td>Austria</td>\n",
              "      <td>Wednesday : 7:30 AM to 8:30 PM, Thursday : 7:3...</td>\n",
              "      <td>48.243246</td>\n",
              "      <td>16.434104</td>\n",
              "    </tr>\n",
              "  </tbody>\n",
              "</table>\n",
              "</div>\n",
              "      <button class=\"colab-df-convert\" onclick=\"convertToInteractive('df-efbd205a-af41-48b2-a2cc-74beb861320e')\"\n",
              "              title=\"Convert this dataframe to an interactive table.\"\n",
              "              style=\"display:none;\">\n",
              "        \n",
              "  <svg xmlns=\"http://www.w3.org/2000/svg\" height=\"24px\"viewBox=\"0 0 24 24\"\n",
              "       width=\"24px\">\n",
              "    <path d=\"M0 0h24v24H0V0z\" fill=\"none\"/>\n",
              "    <path d=\"M18.56 5.44l.94 2.06.94-2.06 2.06-.94-2.06-.94-.94-2.06-.94 2.06-2.06.94zm-11 1L8.5 8.5l.94-2.06 2.06-.94-2.06-.94L8.5 2.5l-.94 2.06-2.06.94zm10 10l.94 2.06.94-2.06 2.06-.94-2.06-.94-.94-2.06-.94 2.06-2.06.94z\"/><path d=\"M17.41 7.96l-1.37-1.37c-.4-.4-.92-.59-1.43-.59-.52 0-1.04.2-1.43.59L10.3 9.45l-7.72 7.72c-.78.78-.78 2.05 0 2.83L4 21.41c.39.39.9.59 1.41.59.51 0 1.02-.2 1.41-.59l7.78-7.78 2.81-2.81c.8-.78.8-2.07 0-2.86zM5.41 20L4 18.59l7.72-7.72 1.47 1.35L5.41 20z\"/>\n",
              "  </svg>\n",
              "      </button>\n",
              "      \n",
              "  <style>\n",
              "    .colab-df-container {\n",
              "      display:flex;\n",
              "      flex-wrap:wrap;\n",
              "      gap: 12px;\n",
              "    }\n",
              "\n",
              "    .colab-df-convert {\n",
              "      background-color: #E8F0FE;\n",
              "      border: none;\n",
              "      border-radius: 50%;\n",
              "      cursor: pointer;\n",
              "      display: none;\n",
              "      fill: #1967D2;\n",
              "      height: 32px;\n",
              "      padding: 0 0 0 0;\n",
              "      width: 32px;\n",
              "    }\n",
              "\n",
              "    .colab-df-convert:hover {\n",
              "      background-color: #E2EBFA;\n",
              "      box-shadow: 0px 1px 2px rgba(60, 64, 67, 0.3), 0px 1px 3px 1px rgba(60, 64, 67, 0.15);\n",
              "      fill: #174EA6;\n",
              "    }\n",
              "\n",
              "    [theme=dark] .colab-df-convert {\n",
              "      background-color: #3B4455;\n",
              "      fill: #D2E3FC;\n",
              "    }\n",
              "\n",
              "    [theme=dark] .colab-df-convert:hover {\n",
              "      background-color: #434B5C;\n",
              "      box-shadow: 0px 1px 3px 1px rgba(0, 0, 0, 0.15);\n",
              "      filter: drop-shadow(0px 1px 2px rgba(0, 0, 0, 0.3));\n",
              "      fill: #FFFFFF;\n",
              "    }\n",
              "  </style>\n",
              "\n",
              "      <script>\n",
              "        const buttonEl =\n",
              "          document.querySelector('#df-efbd205a-af41-48b2-a2cc-74beb861320e button.colab-df-convert');\n",
              "        buttonEl.style.display =\n",
              "          google.colab.kernel.accessAllowed ? 'block' : 'none';\n",
              "\n",
              "        async function convertToInteractive(key) {\n",
              "          const element = document.querySelector('#df-efbd205a-af41-48b2-a2cc-74beb861320e');\n",
              "          const dataTable =\n",
              "            await google.colab.kernel.invokeFunction('convertToInteractive',\n",
              "                                                     [key], {});\n",
              "          if (!dataTable) return;\n",
              "\n",
              "          const docLinkHtml = 'Like what you see? Visit the ' +\n",
              "            '<a target=\"_blank\" href=https://colab.research.google.com/notebooks/data_table.ipynb>data table notebook</a>'\n",
              "            + ' to learn more about interactive tables.';\n",
              "          element.innerHTML = '';\n",
              "          dataTable['output_type'] = 'display_data';\n",
              "          await google.colab.output.renderOutput(dataTable, element);\n",
              "          const docLink = document.createElement('div');\n",
              "          docLink.innerHTML = docLinkHtml;\n",
              "          element.appendChild(docLink);\n",
              "        }\n",
              "      </script>\n",
              "    </div>\n",
              "  </div>\n",
              "  "
            ]
          },
          "metadata": {},
          "execution_count": 7
        }
      ]
    },
    {
      "cell_type": "markdown",
      "source": [
        "# Starts Here:"
      ],
      "metadata": {
        "id": "GaQuz16RtvZJ"
      }
    },
    {
      "cell_type": "code",
      "source": [
        "# O(n)\n",
        "def getCoordinates(store_df):\n",
        "  n = len(store_df)\n",
        "\n",
        "  coordinates = []\n",
        "  for i in range(n):\n",
        "    latitude = store_df[\"latitude\"][i]\n",
        "    longitude = store_df[\"longitude\"][i]\n",
        "\n",
        "    coordinates.append((latitude, longitude))\n",
        "\n",
        "  return coordinates"
      ],
      "metadata": {
        "id": "OQLSep0Tl7pA"
      },
      "execution_count": 8,
      "outputs": []
    },
    {
      "cell_type": "code",
      "source": [
        "from geopy import distance\n",
        "\n",
        "def getDistance(coord1, coord2):\n",
        "  return distance.distance(coord1, coord2).km"
      ],
      "metadata": {
        "id": "aLb1JrYelmjL"
      },
      "execution_count": 9,
      "outputs": []
    },
    {
      "cell_type": "code",
      "source": [
        "# O(n)\n",
        "def getTotalDistance(centerIndex, coordinates, distance_func):\n",
        "  totalDistance = 0\n",
        "\n",
        "  for i in range(len(coordinates)):\n",
        "    if i != centerIndex:\n",
        "      totalDistance += distance_func(coordinates[centerIndex], coordinates[i])*2\n",
        "  \n",
        "  return totalDistance"
      ],
      "metadata": {
        "id": "QLUkzeJYtWPq"
      },
      "execution_count": 10,
      "outputs": []
    },
    {
      "cell_type": "code",
      "source": [
        "local_store_coordinates = getCoordinates(local_store_df)\n",
        "local_store_coordinates"
      ],
      "metadata": {
        "colab": {
          "base_uri": "https://localhost:8080/"
        },
        "id": "9sdVoPZxlsJE",
        "outputId": "88378365-1cad-4ade-90a3-64096db5097e"
      },
      "execution_count": 11,
      "outputs": [
        {
          "output_type": "execute_result",
          "data": {
            "text/plain": [
              "[(48.198655, 16.350052),\n",
              " (48.200706, 16.358635),\n",
              " (48.240344, 16.386985),\n",
              " (48.220408, 16.347473),\n",
              " (48.211299, 16.376093),\n",
              " (48.205817, 16.385848),\n",
              " (48.207627, 16.367094),\n",
              " (48.200786, 16.368764),\n",
              " (48.243246, 16.434104)]"
            ]
          },
          "metadata": {},
          "execution_count": 11
        }
      ]
    },
    {
      "cell_type": "markdown",
      "source": [
        "## 1. Brute force: O(n2 + n) = O(n2)"
      ],
      "metadata": {
        "id": "G1ob1DIJsdrG"
      }
    },
    {
      "cell_type": "code",
      "source": [
        "def selectCenter_1(coordinates, distance_func):\n",
        "  n = len(coordinates)\n",
        "\n",
        "  distances = [[0 for _ in range(n)] for _ in range(n)]\n",
        "  for i in range(n):\n",
        "    for j in range(i+1, n):\n",
        "      distance = distance_func(coordinates[i], coordinates[j])\n",
        "      distances[i][j] = distances[j][i] = distance\n",
        "  \n",
        "  minIndex = -1\n",
        "  minDistance = -1\n",
        "  for i in range(n):\n",
        "    totalDistance = sum(distances[i])\n",
        "    if totalDistance < minDistance or minIndex < 0:\n",
        "      minDistance = totalDistance\n",
        "      minIndex = i\n",
        "\n",
        "  return minIndex"
      ],
      "metadata": {
        "id": "uhy-AOX4mjN8"
      },
      "execution_count": 12,
      "outputs": []
    },
    {
      "cell_type": "code",
      "source": [
        "centerIndex1 = selectCenter_1(local_store_coordinates, getDistance)\n",
        "centerIndex1"
      ],
      "metadata": {
        "colab": {
          "base_uri": "https://localhost:8080/"
        },
        "id": "FTOF26JMo9WK",
        "outputId": "5ea1309e-60dc-4a16-8169-071c7bd01f7e"
      },
      "execution_count": 13,
      "outputs": [
        {
          "output_type": "execute_result",
          "data": {
            "text/plain": [
              "6"
            ]
          },
          "metadata": {},
          "execution_count": 13
        }
      ]
    },
    {
      "cell_type": "code",
      "source": [
        "getTotalDistance(centerIndex1, local_store_coordinates, getDistance)"
      ],
      "metadata": {
        "colab": {
          "base_uri": "https://localhost:8080/"
        },
        "id": "nU21Uy1dsaBh",
        "outputId": "f1e72d1b-d6ab-496c-d95a-9cf49d181792"
      },
      "execution_count": 14,
      "outputs": [
        {
          "output_type": "execute_result",
          "data": {
            "text/plain": [
              "35.78768525182979"
            ]
          },
          "metadata": {},
          "execution_count": 14
        }
      ]
    },
    {
      "cell_type": "markdown",
      "source": [
        "# 2. O(2n) = O(n)"
      ],
      "metadata": {
        "id": "ukE8C6FKshPm"
      }
    },
    {
      "cell_type": "code",
      "source": [
        "def selectCenter_2(coordinates, distance_func):\n",
        "  n = len(coordinates)\n",
        "\n",
        "  center = [0, 0]\n",
        "  for coordinate in coordinates:\n",
        "    center[0] += coordinate[0]\n",
        "    center[1] += coordinate[1]\n",
        "  center[0] /= n\n",
        "  center[1] /= n\n",
        "  \n",
        "  minDiff = -1\n",
        "  minIndex = -1\n",
        "  for i in range(n):\n",
        "    diff = distance_func(center, coordinates[i])\n",
        "    if diff < minDiff or minIndex < 0:\n",
        "      minDiff = diff\n",
        "      minIndex = i\n",
        "  \n",
        "  return minIndex"
      ],
      "metadata": {
        "id": "3-x90N38rCVp"
      },
      "execution_count": 15,
      "outputs": []
    },
    {
      "cell_type": "code",
      "source": [
        "centerIndex2 = selectCenter_2(local_store_coordinates, getDistance)\n",
        "centerIndex2"
      ],
      "metadata": {
        "colab": {
          "base_uri": "https://localhost:8080/"
        },
        "id": "KsMK8O42vmjy",
        "outputId": "61706370-8443-4e53-b52a-1ef02279c368"
      },
      "execution_count": 16,
      "outputs": [
        {
          "output_type": "execute_result",
          "data": {
            "text/plain": [
              "4"
            ]
          },
          "metadata": {},
          "execution_count": 16
        }
      ]
    },
    {
      "cell_type": "code",
      "source": [
        "getTotalDistance(centerIndex2, local_store_coordinates, getDistance)"
      ],
      "metadata": {
        "colab": {
          "base_uri": "https://localhost:8080/"
        },
        "id": "TUWMHcLRv_nX",
        "outputId": "dc896fa4-79dd-4b0d-da72-b0bdfd1cef10"
      },
      "execution_count": 17,
      "outputs": [
        {
          "output_type": "execute_result",
          "data": {
            "text/plain": [
              "36.87171302202011"
            ]
          },
          "metadata": {},
          "execution_count": 17
        }
      ]
    },
    {
      "cell_type": "markdown",
      "source": [
        "# 3. O(n log n + 2n) = O(n log n)"
      ],
      "metadata": {
        "id": "cNxiA5IAwXJd"
      }
    },
    {
      "cell_type": "code",
      "source": [
        "def selectCenter_3(coordinates, distance_func):\n",
        "  n = len(coordinates)\n",
        "\n",
        "  hypotenuses = []\n",
        "  for i in range(n):\n",
        "    hypotenuse = (coordinates[i][0]**2 + coordinates[i][1]**2)**(1/2)\n",
        "    hypotenuses.append(hypotenuse)\n",
        "  \n",
        "  sorted_hypotenuses = sorted(hypotenuses)  # Sorting (We may implement this ourselves)\n",
        "  \n",
        "  left = sorted_hypotenuses[0]\n",
        "  right = sorted_hypotenuses[n-1]\n",
        "  minDistance = right - left\n",
        "  minHypotenus = -1\n",
        "  for i in range(1, n):\n",
        "    distance = max(sorted_hypotenuses[i] - left, right - sorted_hypotenuses[i])\n",
        "    if distance < minDistance:\n",
        "      minDistance = distance\n",
        "      minHypotenus = sorted_hypotenuses[i]\n",
        "\n",
        "  return hypotenuses.index(minHypotenus)"
      ],
      "metadata": {
        "id": "Ip5MdEHpwYbB"
      },
      "execution_count": 46,
      "outputs": []
    },
    {
      "cell_type": "code",
      "source": [
        "centerIndex3 = selectCenter_3(local_store_coordinates, getDistance)\n",
        "centerIndex3"
      ],
      "metadata": {
        "colab": {
          "base_uri": "https://localhost:8080/"
        },
        "id": "KKuzkekhzeY1",
        "outputId": "fa0f93cd-861e-4899-dd94-f031df30a2f9"
      },
      "execution_count": 47,
      "outputs": [
        {
          "output_type": "execute_result",
          "data": {
            "text/plain": [
              "4"
            ]
          },
          "metadata": {},
          "execution_count": 47
        }
      ]
    },
    {
      "cell_type": "code",
      "source": [
        "getTotalDistance(centerIndex3, local_store_coordinates, getDistance)"
      ],
      "metadata": {
        "colab": {
          "base_uri": "https://localhost:8080/"
        },
        "id": "_X8qHBqYlY6V",
        "outputId": "a196ab59-7c8a-4087-8b27-9de503ccfc95"
      },
      "execution_count": 48,
      "outputs": [
        {
          "output_type": "execute_result",
          "data": {
            "text/plain": [
              "36.87171302202011"
            ]
          },
          "metadata": {},
          "execution_count": 48
        }
      ]
    }
  ]
}