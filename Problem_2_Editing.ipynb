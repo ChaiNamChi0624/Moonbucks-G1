{
 "cells": [
  {
   "cell_type": "code",
   "execution_count": 4,
   "id": "620d56d6",
   "metadata": {},
   "outputs": [],
   "source": [
    "from sentiment_analysis import *"
   ]
  },
  {
   "cell_type": "code",
   "execution_count": 2,
   "id": "21dad73a",
   "metadata": {},
   "outputs": [],
   "source": [
    "country_codes = [\"AE\", \"CN\", \"NZ\", \"TH\", \"US\"]"
   ]
  },
  {
   "cell_type": "code",
   "execution_count": 3,
   "id": "ca3924ff",
   "metadata": {},
   "outputs": [
    {
     "name": "stdout",
     "output_type": "stream",
     "text": [
      "Sentiment Analysis on AE took 20.68 s\n",
      "Sentiment Analysis on CN took 24.72 s\n",
      "Sentiment Analysis on NZ took 28.38 s\n",
      "Sentiment Analysis on TH took 34.89 s\n",
      "Sentiment Analysis on US took 37.45 s\n"
     ]
    }
   ],
   "source": [
    "sentiment_info = {}\n",
    "for country_code in country_codes:\n",
    "    start_t = time.time()\n",
    "    print(f\"Sentiment Analysis on {country_code}\", end=\"\")\n",
    "    \n",
    "    sentiment_info[country_code] = sentimentAnalysis(country_code)\n",
    "    end_t = time.time()\n",
    "    print(f\" took {round(end_t - start_t, 2)} s\")"
   ]
  },
  {
   "cell_type": "code",
   "execution_count": 4,
   "id": "594b6b96",
   "metadata": {},
   "outputs": [
    {
     "data": {
      "text/plain": [
       "{'AE': {'country_code': 'AE',\n",
       "  'pos_per': 6.365503080082135,\n",
       "  'neg_per': 0.41067761806981523,\n",
       "  'neut_per': 93.22381930184805,\n",
       "  'overral': 'positive'},\n",
       " 'CN': {'country_code': 'CN',\n",
       "  'pos_per': 2.640449438202247,\n",
       "  'neg_per': 4.8876404494382015,\n",
       "  'neut_per': 92.47191011235955,\n",
       "  'overral': 'negative'},\n",
       " 'NZ': {'country_code': 'NZ',\n",
       "  'pos_per': 3.089749877390878,\n",
       "  'neg_per': 5.590975968612065,\n",
       "  'neut_per': 91.31927415399706,\n",
       "  'overral': 'negative'},\n",
       " 'TH': {'country_code': 'TH',\n",
       "  'pos_per': 3.92,\n",
       "  'neg_per': 3.44,\n",
       "  'neut_per': 92.64,\n",
       "  'overral': 'positive'},\n",
       " 'US': {'country_code': 'US',\n",
       "  'pos_per': 2.211126961483595,\n",
       "  'neg_per': 4.885877318116976,\n",
       "  'neut_per': 92.90299572039943,\n",
       "  'overral': 'negative'}}"
      ]
     },
     "execution_count": 4,
     "metadata": {},
     "output_type": "execute_result"
    }
   ],
   "source": [
    "sentiment_info"
   ]
  },
  {
   "cell_type": "code",
   "execution_count": null,
   "id": "614615f3",
   "metadata": {},
   "outputs": [],
   "source": []
  }
 ],
 "metadata": {
  "kernelspec": {
   "display_name": "Python 3.9.0 ('moonbucks_env')",
   "language": "python",
   "name": "python3"
  },
  "language_info": {
   "codemirror_mode": {
    "name": "ipython",
    "version": 3
   },
   "file_extension": ".py",
   "mimetype": "text/x-python",
   "name": "python",
   "nbconvert_exporter": "python",
   "pygments_lexer": "ipython3",
   "version": "3.9.0"
  },
  "vscode": {
   "interpreter": {
    "hash": "fb71b31682535fc53402c3c12207b026517ff5d46d3560c79231c1b8ae0370aa"
   }
  }
 },
 "nbformat": 4,
 "nbformat_minor": 5
}
